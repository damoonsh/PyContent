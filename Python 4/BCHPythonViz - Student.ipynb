{
 "cells": [
  {
   "cell_type": "markdown",
   "metadata": {
    "id": "Zp6A_8_uEv6r"
   },
   "source": [
    "# Python 4\n",
    "For this bootcamp we'll be using a few data visualization modules to plot data using Python. \n",
    "\n",
    "In this notebook we will:\n",
    "1. Import required modules and datasets\n",
    "2. Manipulate the data using Pandas\n",
    "3. Visualize the data\n",
    "\n"
   ]
  },
  {
   "cell_type": "code",
   "execution_count": 1,
   "metadata": {
    "id": "4Xy9fGKEEv6y"
   },
   "outputs": [
    {
     "name": "stdout",
     "output_type": "stream",
     "text": [
      "Requirement already satisfied: matplotlib in /cloud/lib/lib/python3.7/site-packages (3.4.3)\n",
      "Requirement already satisfied: cycler>=0.10 in /cloud/lib/lib/python3.7/site-packages (from matplotlib) (0.11.0)\n",
      "Requirement already satisfied: python-dateutil>=2.7 in /opt/python/3.7.10/lib/python3.7/site-packages (from matplotlib) (2.8.2)\n",
      "Requirement already satisfied: numpy>=1.16 in /cloud/lib/lib/python3.7/site-packages (from matplotlib) (1.21.3)\n",
      "Requirement already satisfied: pyparsing>=2.2.1 in /cloud/lib/lib/python3.7/site-packages (from matplotlib) (3.0.4)\n",
      "Requirement already satisfied: kiwisolver>=1.0.1 in /cloud/lib/lib/python3.7/site-packages (from matplotlib) (1.3.2)\n",
      "Requirement already satisfied: pillow>=6.2.0 in /cloud/lib/lib/python3.7/site-packages (from matplotlib) (8.4.0)\n",
      "Requirement already satisfied: six>=1.5 in /opt/python/3.7.10/lib/python3.7/site-packages (from python-dateutil>=2.7->matplotlib) (1.16.0)\n",
      "\n",
      "\u001b[1m[\u001b[0m\u001b[34;49mnotice\u001b[0m\u001b[1;39;49m]\u001b[0m\u001b[39;49m A new release of pip available: \u001b[0m\u001b[31;49m22.3\u001b[0m\u001b[39;49m -> \u001b[0m\u001b[32;49m23.1.2\u001b[0m\n",
      "\u001b[1m[\u001b[0m\u001b[34;49mnotice\u001b[0m\u001b[1;39;49m]\u001b[0m\u001b[39;49m To update, run: \u001b[0m\u001b[32;49m/opt/python/3.7.10/bin/python3 -m pip install --upgrade pip\u001b[0m\n",
      "Note: you may need to restart the kernel to use updated packages.\n",
      "Requirement already satisfied: numpy in /cloud/lib/lib/python3.7/site-packages (1.21.3)\n",
      "\n",
      "\u001b[1m[\u001b[0m\u001b[34;49mnotice\u001b[0m\u001b[1;39;49m]\u001b[0m\u001b[39;49m A new release of pip available: \u001b[0m\u001b[31;49m22.3\u001b[0m\u001b[39;49m -> \u001b[0m\u001b[32;49m23.1.2\u001b[0m\n",
      "\u001b[1m[\u001b[0m\u001b[34;49mnotice\u001b[0m\u001b[1;39;49m]\u001b[0m\u001b[39;49m To update, run: \u001b[0m\u001b[32;49m/opt/python/3.7.10/bin/python3 -m pip install --upgrade pip\u001b[0m\n",
      "Note: you may need to restart the kernel to use updated packages.\n"
     ]
    }
   ],
   "source": [
    "#Remove warnings from our outputs\n",
    "import warnings\n",
    "warnings.filterwarnings(\"ignore\")\n",
    "\n",
    "%pip install matplotlib\n",
    "%pip install numpy"
   ]
  },
  {
   "cell_type": "markdown",
   "metadata": {
    "id": "ZGPWVE6wEv6z"
   },
   "source": [
    "# Matplotlib\n",
    "\n",
    "\"Matplotlib is a comprehensive library for creating static, animated, and interactive visualizations in Python.\"\n",
    "\n",
    "Matplotlib is one of the most popular libraries used to create data vizualizations in Python. It uses an object-oriented API (classes) which we've already worked with when using Pandas\n",
    "\n",
    "Below is a breakdown of some of the key elements that go into a matplotlib figure\n",
    "\n",
    "Two main concepts to understand\n",
    "- A figure is the whole figure and can contain any number of axes (usually at least 1)\n",
    "- Axes are the \"plot\" that will contain your title, legend, etc."
   ]
  },
  {
   "cell_type": "markdown",
   "metadata": {
    "id": "iVExyin9Ev6z"
   },
   "source": [
    "<img src=\"images/mplib_anatomy.png\"/>"
   ]
  },
  {
   "cell_type": "code",
   "execution_count": 2,
   "metadata": {
    "colab": {
     "base_uri": "https://localhost:8080/",
     "height": 295
    },
    "executionInfo": {
     "elapsed": 1138,
     "status": "ok",
     "timestamp": 1610850489828,
     "user": {
      "displayName": "Shaktisinh Bhati",
      "photoUrl": "",
      "userId": "01841596182349354977"
     },
     "user_tz": 300
    },
    "id": "QPOi3BzWEv6z",
    "outputId": "e16413ab-0654-44d1-a03a-e6136664c78a"
   },
   "outputs": [
    {
     "data": {
      "text/plain": [
       "Text(0.5, 0, 'x coords')"
      ]
     },
     "execution_count": 2,
     "metadata": {},
     "output_type": "execute_result"
    },
    {
     "data": {
      "image/png": "[encoded data removed]",
      "text/plain": [
       "<Figure size 640x480 with 1 Axes>"
      ]
     },
     "metadata": {},
     "output_type": "display_data"
    }
   ],
   "source": [
    "import matplotlib.pyplot as plt\n",
    "import numpy as np\n",
    "\n",
    "x = [1,2,3,4,5,6]\n",
    "data = np.array(x)\n",
    "\n",
    "# https://matplotlib.org/tutorials/introductory/usage.html#sphx-glr-tutorials-introductory-usage-py\n",
    "# Create a figure and an axes.\n",
    "\n",
    "fig, ax = plt.subplots()\n",
    "\n",
    "# Plot some data on the axes.\n",
    "\n",
    "\n",
    "# Plot more data on the axes...\n",
    "\n",
    "\n",
    "# ... and some more.\n",
    "\n",
    "\n",
    "# Add an x-label to the axes.\n",
    "\n",
    "ax.set_xlabel('x coords')\n",
    "\n",
    "# Add a y-label to the axes.\n",
    "\n",
    "# Add a title to the axes.\n",
    "\n",
    "\n",
    "# Add a legend."
   ]
  },
  {
   "cell_type": "markdown",
   "metadata": {
    "id": "jrALaJ_TEv61"
   },
   "source": [
    "# Pandas Plotting\n",
    "Pandas offers a easy way to access Matplotlib to plot the data inside of a DataFrame.\n",
    "\n",
    "We will go over a few ways to plot some stock data.\n"
   ]
  },
  {
   "cell_type": "code",
   "execution_count": 3,
   "metadata": {
    "colab": {
     "base_uri": "https://localhost:8080/"
    },
    "executionInfo": {
     "elapsed": 1433,
     "status": "ok",
     "timestamp": 1610850490131,
     "user": {
      "displayName": "Shaktisinh Bhati",
      "photoUrl": "",
      "userId": "01841596182349354977"
     },
     "user_tz": 300
    },
    "id": "K7CO8mybEv61",
    "outputId": "a4bd28bb-6d3e-49af-a2ee-b09677bf1867"
   },
   "outputs": [
    {
     "ename": "KeyboardInterrupt",
     "evalue": "",
     "output_type": "error",
     "traceback": [
      "\u001b[0;31m---------------------------------------------------------------------------\u001b[0m",
      "\u001b[0;31mKeyboardInterrupt\u001b[0m                         Traceback (most recent call last)",
      "\u001b[0;32m/tmp/ipykernel_127/3664975231.py\u001b[0m in \u001b[0;36m<module>\u001b[0;34m\u001b[0m\n\u001b[1;32m      1\u001b[0m \u001b[0;31m#Import Pandas\u001b[0m\u001b[0;34m\u001b[0m\u001b[0;34m\u001b[0m\u001b[0;34m\u001b[0m\u001b[0m\n\u001b[0;32m----> 2\u001b[0;31m \u001b[0;32mimport\u001b[0m \u001b[0mpandas\u001b[0m \u001b[0;32mas\u001b[0m \u001b[0mpd\u001b[0m\u001b[0;34m\u001b[0m\u001b[0;34m\u001b[0m\u001b[0m\n\u001b[0m",
      "\u001b[0;32m/cloud/lib/lib/python3.7/site-packages/pandas/__init__.py\u001b[0m in \u001b[0;36m<module>\u001b[0;34m\u001b[0m\n\u001b[1;32m     48\u001b[0m \u001b[0;32mimport\u001b[0m \u001b[0mpandas\u001b[0m\u001b[0;34m.\u001b[0m\u001b[0mcore\u001b[0m\u001b[0;34m.\u001b[0m\u001b[0mconfig_init\u001b[0m\u001b[0;34m\u001b[0m\u001b[0;34m\u001b[0m\u001b[0m\n\u001b[1;32m     49\u001b[0m \u001b[0;34m\u001b[0m\u001b[0m\n\u001b[0;32m---> 50\u001b[0;31m from pandas.core.api import (\n\u001b[0m\u001b[1;32m     51\u001b[0m     \u001b[0;31m# dtype\u001b[0m\u001b[0;34m\u001b[0m\u001b[0;34m\u001b[0m\u001b[0;34m\u001b[0m\u001b[0m\n\u001b[1;32m     52\u001b[0m     \u001b[0mInt8Dtype\u001b[0m\u001b[0;34m,\u001b[0m\u001b[0;34m\u001b[0m\u001b[0;34m\u001b[0m\u001b[0m\n",
      "\u001b[0;32m/cloud/lib/lib/python3.7/site-packages/pandas/core/api.py\u001b[0m in \u001b[0;36m<module>\u001b[0;34m\u001b[0m\n\u001b[1;32m     27\u001b[0m     \u001b[0mvalue_counts\u001b[0m\u001b[0;34m,\u001b[0m\u001b[0;34m\u001b[0m\u001b[0;34m\u001b[0m\u001b[0m\n\u001b[1;32m     28\u001b[0m )\n\u001b[0;32m---> 29\u001b[0;31m \u001b[0;32mfrom\u001b[0m \u001b[0mpandas\u001b[0m\u001b[0;34m.\u001b[0m\u001b[0mcore\u001b[0m\u001b[0;34m.\u001b[0m\u001b[0marrays\u001b[0m \u001b[0;32mimport\u001b[0m \u001b[0mCategorical\u001b[0m\u001b[0;34m\u001b[0m\u001b[0;34m\u001b[0m\u001b[0m\n\u001b[0m\u001b[1;32m     30\u001b[0m \u001b[0;32mfrom\u001b[0m \u001b[0mpandas\u001b[0m\u001b[0;34m.\u001b[0m\u001b[0mcore\u001b[0m\u001b[0;34m.\u001b[0m\u001b[0marrays\u001b[0m\u001b[0;34m.\u001b[0m\u001b[0mboolean\u001b[0m \u001b[0;32mimport\u001b[0m \u001b[0mBooleanDtype\u001b[0m\u001b[0;34m\u001b[0m\u001b[0;34m\u001b[0m\u001b[0m\n\u001b[1;32m     31\u001b[0m from pandas.core.arrays.floating import (\n",
      "\u001b[0;32m/cloud/lib/lib/python3.7/site-packages/pandas/core/arrays/__init__.py\u001b[0m in \u001b[0;36m<module>\u001b[0;34m\u001b[0m\n\u001b[1;32m      5\u001b[0m )\n\u001b[1;32m      6\u001b[0m \u001b[0;32mfrom\u001b[0m \u001b[0mpandas\u001b[0m\u001b[0;34m.\u001b[0m\u001b[0mcore\u001b[0m\u001b[0;34m.\u001b[0m\u001b[0marrays\u001b[0m\u001b[0;34m.\u001b[0m\u001b[0mboolean\u001b[0m \u001b[0;32mimport\u001b[0m \u001b[0mBooleanArray\u001b[0m\u001b[0;34m\u001b[0m\u001b[0;34m\u001b[0m\u001b[0m\n\u001b[0;32m----> 7\u001b[0;31m \u001b[0;32mfrom\u001b[0m \u001b[0mpandas\u001b[0m\u001b[0;34m.\u001b[0m\u001b[0mcore\u001b[0m\u001b[0;34m.\u001b[0m\u001b[0marrays\u001b[0m\u001b[0;34m.\u001b[0m\u001b[0mcategorical\u001b[0m \u001b[0;32mimport\u001b[0m \u001b[0mCategorical\u001b[0m\u001b[0;34m\u001b[0m\u001b[0;34m\u001b[0m\u001b[0m\n\u001b[0m\u001b[1;32m      8\u001b[0m \u001b[0;32mfrom\u001b[0m \u001b[0mpandas\u001b[0m\u001b[0;34m.\u001b[0m\u001b[0mcore\u001b[0m\u001b[0;34m.\u001b[0m\u001b[0marrays\u001b[0m\u001b[0;34m.\u001b[0m\u001b[0mdatetimes\u001b[0m \u001b[0;32mimport\u001b[0m \u001b[0mDatetimeArray\u001b[0m\u001b[0;34m\u001b[0m\u001b[0;34m\u001b[0m\u001b[0m\n\u001b[1;32m      9\u001b[0m \u001b[0;32mfrom\u001b[0m \u001b[0mpandas\u001b[0m\u001b[0;34m.\u001b[0m\u001b[0mcore\u001b[0m\u001b[0;34m.\u001b[0m\u001b[0marrays\u001b[0m\u001b[0;34m.\u001b[0m\u001b[0mfloating\u001b[0m \u001b[0;32mimport\u001b[0m \u001b[0mFloatingArray\u001b[0m\u001b[0;34m\u001b[0m\u001b[0;34m\u001b[0m\u001b[0m\n",
      "\u001b[0;32m/cloud/lib/lib/python3.7/site-packages/pandas/core/arrays/categorical.py\u001b[0m in \u001b[0;36m<module>\u001b[0;34m\u001b[0m\n\u001b[1;32m     97\u001b[0m )\n\u001b[1;32m     98\u001b[0m \u001b[0;32mfrom\u001b[0m \u001b[0mpandas\u001b[0m\u001b[0;34m.\u001b[0m\u001b[0mcore\u001b[0m\u001b[0;34m.\u001b[0m\u001b[0marrays\u001b[0m\u001b[0;34m.\u001b[0m\u001b[0m_mixins\u001b[0m \u001b[0;32mimport\u001b[0m \u001b[0mNDArrayBackedExtensionArray\u001b[0m\u001b[0;34m\u001b[0m\u001b[0;34m\u001b[0m\u001b[0m\n\u001b[0;32m---> 99\u001b[0;31m from pandas.core.base import (\n\u001b[0m\u001b[1;32m    100\u001b[0m     \u001b[0mExtensionArray\u001b[0m\u001b[0;34m,\u001b[0m\u001b[0;34m\u001b[0m\u001b[0;34m\u001b[0m\u001b[0m\n\u001b[1;32m    101\u001b[0m     \u001b[0mNoNewAttributesMixin\u001b[0m\u001b[0;34m,\u001b[0m\u001b[0;34m\u001b[0m\u001b[0;34m\u001b[0m\u001b[0m\n",
      "\u001b[0;32m/opt/python/3.7.10/lib/python3.7/importlib/_bootstrap.py\u001b[0m in \u001b[0;36m_find_and_load\u001b[0;34m(name, import_)\u001b[0m\n",
      "\u001b[0;32m/opt/python/3.7.10/lib/python3.7/importlib/_bootstrap.py\u001b[0m in \u001b[0;36m_find_and_load_unlocked\u001b[0;34m(name, import_)\u001b[0m\n",
      "\u001b[0;32m/opt/python/3.7.10/lib/python3.7/importlib/_bootstrap.py\u001b[0m in \u001b[0;36m_load_unlocked\u001b[0;34m(spec)\u001b[0m\n",
      "\u001b[0;32m/opt/python/3.7.10/lib/python3.7/importlib/_bootstrap_external.py\u001b[0m in \u001b[0;36mexec_module\u001b[0;34m(self, module)\u001b[0m\n",
      "\u001b[0;32m/opt/python/3.7.10/lib/python3.7/importlib/_bootstrap_external.py\u001b[0m in \u001b[0;36mget_code\u001b[0;34m(self, fullname)\u001b[0m\n",
      "\u001b[0;32m/opt/python/3.7.10/lib/python3.7/importlib/_bootstrap_external.py\u001b[0m in \u001b[0;36mget_data\u001b[0;34m(self, path)\u001b[0m\n",
      "\u001b[0;31mKeyboardInterrupt\u001b[0m: "
     ]
    }
   ],
   "source": [
    "#Import Pandas\n",
    "import pandas as pd\n"
   ]
  },
  {
   "cell_type": "code",
   "execution_count": null,
   "metadata": {
    "id": "xfetlbqTEv62"
   },
   "outputs": [],
   "source": [
    "# Import stock data\n",
    "\n",
    "stock_df = pd.read_csv('data/stocks.csv', index_col=\"date\", parse_dates=True)\n"
   ]
  },
  {
   "cell_type": "code",
   "execution_count": null,
   "metadata": {
    "id": "obSJrAXcEv62"
   },
   "outputs": [],
   "source": [
    "#Take a look at the data\n",
    "stock_df.head()"
   ]
  },
  {
   "cell_type": "code",
   "execution_count": null,
   "metadata": {
    "id": "jjTzO9BpEv62"
   },
   "outputs": [],
   "source": [
    "#Plotting data as easy as calling the plot() function\n",
    "\n"
   ]
  },
  {
   "cell_type": "code",
   "execution_count": null,
   "metadata": {
    "id": "Ozasmq8lEv63"
   },
   "outputs": [],
   "source": [
    "#Plotting data as easy as calling the plot() function\n"
   ]
  },
  {
   "cell_type": "code",
   "execution_count": null,
   "metadata": {
    "id": "efRpwy3cEv63"
   },
   "outputs": [],
   "source": [
    "#Define a MPL figure and axes to give us more control of our visual\n",
    "\n",
    "fig, axs = plt.subplots(2,2, figsize=(12, 7))\n",
    "fig.suptitle('Virtically stack subplots')\n",
    "\n",
    "#Must specify the axes we want to plot onto, and can specify addicitonal styling parameters with 'colormap'\n",
    "\n",
    "\n",
    "#Use a FOR loop to add on the X and Y labels\n",
    "for axis in axs.flat:\n",
    "    axis.set(xlabel='Date', ylabel='Price $')\n",
    "    "
   ]
  },
  {
   "cell_type": "markdown",
   "metadata": {
    "id": "PVaF8KswEv63"
   },
   "source": [
    "# Barchart\n",
    "For the next portion of the bootcamp, we're going to be using Airbnb data. \n",
    "\n",
    "We'll be going over some of the other kinds of plots we can create directly from a Pandas DataFrame\n",
    "\n"
   ]
  },
  {
   "cell_type": "code",
   "execution_count": null,
   "metadata": {
    "id": "uiRQ0o8eEv64"
   },
   "outputs": [],
   "source": [
    "#https://www.kaggle.com/shivamb/netflix-shows\n",
    "#Import new dataset from the data/netflix_titles.csv file into variable net_df\n",
    "\n",
    "net_df = pd.read_csv('data/netflix_titles.csv')\n",
    "net_df.head()"
   ]
  },
  {
   "cell_type": "code",
   "execution_count": null,
   "metadata": {
    "id": "8yjkKEgaEv64"
   },
   "outputs": [],
   "source": [
    "#Calculate the number of movies per country\n",
    "\n",
    "freq = net_df['country'].value_counts()"
   ]
  },
  {
   "cell_type": "code",
   "execution_count": null,
   "metadata": {
    "id": "rf9SFwTHEv64"
   },
   "outputs": [],
   "source": [
    "#Plot this data as a bar chart\n",
    "plt.figure(figsize=(12, 5))\n",
    "\n"
   ]
  },
  {
   "cell_type": "code",
   "execution_count": null,
   "metadata": {
    "id": "N5aGXckaEv64"
   },
   "outputs": [],
   "source": [
    "#Create a pivot so we can visualize the data\n",
    "\n"
   ]
  },
  {
   "cell_type": "code",
   "execution_count": null,
   "metadata": {},
   "outputs": [],
   "source": [
    "net_pivot['Sum'] = net_pivot['Movie'] + net_pivot['TV Show']\n",
    "print(net_pivot)"
   ]
  },
  {
   "cell_type": "code",
   "execution_count": null,
   "metadata": {
    "id": "ad0FeUbeEv65"
   },
   "outputs": [],
   "source": [
    "#Create new column for sorting\n"
   ]
  },
  {
   "cell_type": "code",
   "execution_count": null,
   "metadata": {
    "id": "ep06X10JEv65"
   },
   "outputs": [],
   "source": [
    "#Sort by new column in decsending order\n"
   ]
  },
  {
   "cell_type": "code",
   "execution_count": null,
   "metadata": {
    "id": "5ZYqSOTNEv65",
    "scrolled": true
   },
   "outputs": [],
   "source": [
    "#Drop unnecessary column\n"
   ]
  },
  {
   "cell_type": "code",
   "execution_count": null,
   "metadata": {
    "id": "4f75npUuEv65",
    "scrolled": false
   },
   "outputs": [],
   "source": [
    "#Create a basic bar chart of the pivot table\n",
    "\n"
   ]
  },
  {
   "cell_type": "code",
   "execution_count": null,
   "metadata": {
    "id": "mSs0zLLdEv66"
   },
   "outputs": [],
   "source": [
    "#We can stack the bar chart and change the orientation to horizontal\n"
   ]
  },
  {
   "cell_type": "code",
   "execution_count": null,
   "metadata": {
    "id": "cZnlu1TqEv66"
   },
   "outputs": [],
   "source": [
    "#Pie charts and configurations\n"
   ]
  },
  {
   "cell_type": "markdown",
   "metadata": {
    "id": "VPQ5LcPyEv66"
   },
   "source": [
    "# Seaborn\n",
    "Seaborn is a Python data visualization library based on matplotlib. \n",
    "\n",
    "It provides a high-level interface for drawing attractive and informative statistical graphics.\n",
    "\n"
   ]
  },
  {
   "cell_type": "code",
   "execution_count": null,
   "metadata": {
    "id": "2F73JVNREv66"
   },
   "outputs": [],
   "source": [
    "import seaborn as sns\n",
    "\n",
    "#Load tip data and \n",
    "\n",
    "tips = sns.load_dataset('tips')\n",
    "tips.head()"
   ]
  },
  {
   "cell_type": "code",
   "execution_count": null,
   "metadata": {
    "id": "XvryMzltEv67"
   },
   "outputs": [],
   "source": [
    "# Plot\n",
    "sns.set(style='darkgrid')\n",
    "\n",
    "sns.relplot(x='total_bill', y='tip', data=tips)\n",
    "\n",
    "# Set the width and height of the figure\n",
    "plt.figure(figsize=(16,6))\n"
   ]
  },
  {
   "cell_type": "code",
   "execution_count": null,
   "metadata": {
    "id": "u3ypefD0Ev67"
   },
   "outputs": [],
   "source": [
    "# We can add a third dimension with color and style\n",
    "\n"
   ]
  },
  {
   "cell_type": "code",
   "execution_count": null,
   "metadata": {
    "id": "vpqCaf6SEv67"
   },
   "outputs": [],
   "source": [
    "#Add a fourth dimension using different variables for hue and style\n"
   ]
  },
  {
   "cell_type": "code",
   "execution_count": null,
   "metadata": {
    "id": "78AaF0-zEv67"
   },
   "outputs": [],
   "source": [
    "#Replot using size variable for hue\n"
   ]
  },
  {
   "cell_type": "code",
   "execution_count": null,
   "metadata": {
    "id": "Tpm_lZmOEv67"
   },
   "outputs": [],
   "source": [
    "#The size parameter allows us to change the size of data points using variables\n"
   ]
  },
  {
   "cell_type": "code",
   "execution_count": null,
   "metadata": {
    "id": "wi4UzBeFEv68"
   },
   "outputs": [],
   "source": [
    "#The sizes parameter determines the scale of the data points\n"
   ]
  },
  {
   "cell_type": "code",
   "execution_count": null,
   "metadata": {
    "id": "6L2TPcV4Ev68"
   },
   "outputs": [],
   "source": [
    "#The col parameter creates subplots along the provided variable\n"
   ]
  },
  {
   "cell_type": "code",
   "execution_count": null,
   "metadata": {
    "id": "R1uQPJQOEv68"
   },
   "outputs": [],
   "source": [
    "#Try plotting the Day of the week to see if it has an effect on the tip amount\n",
    "\n",
    "\n",
    "#Derive one insight from the graph\n",
    "#A: \n"
   ]
  },
  {
   "cell_type": "code",
   "execution_count": null,
   "metadata": {
    "id": "lky7chHAEv69"
   },
   "outputs": [],
   "source": [
    "#Create a pivot table of the tips data\n",
    "\n",
    "hm = tips.pivot_table(index='day', columns='size', values='tip')\n",
    "print(hm)"
   ]
  },
  {
   "cell_type": "code",
   "execution_count": null,
   "metadata": {
    "id": "bFTyovChEv69"
   },
   "outputs": [],
   "source": [
    "#An effective way to plot our pivoted data is with a heatmap\n",
    "\n",
    "sns.heatmap(hm)\n"
   ]
  },
  {
   "cell_type": "code",
   "execution_count": null,
   "metadata": {},
   "outputs": [],
   "source": []
  }
 ],
 "metadata": {
  "colab": {
   "collapsed_sections": [
    "VPQ5LcPyEv66"
   ],
   "name": "BCHPythonViz.ipynb",
   "provenance": []
  },
  "kernelspec": {
   "display_name": "Python 3.7.10 - rstudio",
   "language": "python",
   "name": "rstudio-user-3.7.10"
  },
  "language_info": {
   "codemirror_mode": {
    "name": "ipython",
    "version": 3
   },
   "file_extension": ".py",
   "mimetype": "text/x-python",
   "name": "python",
   "nbconvert_exporter": "python",
   "pygments_lexer": "ipython3",
   "version": "3.7.10"
  }
 },
 "nbformat": 4,
 "nbformat_minor": 1
}
