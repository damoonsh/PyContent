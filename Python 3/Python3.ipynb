{
 "cells": [
  {
   "cell_type": "markdown",
   "metadata": {
    "colab_type": "text",
    "id": "r0TTHn6jK4HV"
   },
   "source": [
    "# Python 3\n",
    "\n",
    "Welcome to Python 3!\n",
    "\n",
    "In this notebook we will:\n",
    "\n",
    "1. Import required modules and dataset\n",
    "2. Aggregate large amounts of data\n",
    "3. Merge multiple data sources into a DataFrame\n",
    "4. Create spreadsheet-style pivot tables as a DataFrame\n",
    "\n",
    "\n"
   ]
  },
  {
   "cell_type": "markdown",
   "metadata": {},
   "source": [
    "%pip install numpy pandas sklearn"
   ]
  },
  {
   "cell_type": "markdown",
   "metadata": {},
   "source": [
    "- DataFrame basics"
   ]
  },
  {
   "cell_type": "code",
   "execution_count": 4,
   "metadata": {},
   "outputs": [],
   "source": [
    "import numpy as np\n",
    "import pandas as pd"
   ]
  },
  {
   "cell_type": "markdown",
   "metadata": {},
   "source": [
    "# Case Study: Rating courses (1: Creation)\n",
    "Imagine that we are interested in gathering data about student performance for each course. We will need to store specific information about the course:\n",
    "- Course code: to identify the course\n",
    "- Semester\n",
    "- Professor\n",
    "- Difficulty (subjective to students)\n",
    "- Student Grade\n",
    "One way to store this data is to use a list of dictionaries. We use dictionaries since we need to store different information for each of the instances. Each key within the dictionary is a column and each dictionary is a row. So we follow two steps to create a pandas dataframe:\n",
    "1. Make the list of dictionaries and populate it with data\n",
    "2. pass the list to pd.DataFrame()"
   ]
  },
  {
   "cell_type": "code",
   "execution_count": 20,
   "metadata": {},
   "outputs": [],
   "source": [
    "list_of_dicts = [\n",
    "    {'code': 'ECN101','semester': 'F2022', 'prof': 'A', 'diff': 4.5, 'grade': 88},\n",
    "    {'code': 'MTH202','semester': 'F2022', 'prof': 'B', 'diff': 5, 'grade': 45},\n",
    "    {'code': 'ECN101','semester': 'W2022', 'prof': 'C', 'diff': 2.5, 'grade': 98},\n",
    "    {'code': 'ECN101','semester': 'W2022', 'prof': 'B', 'diff': 3.5, 'grade': 90},\n",
    "    {'code': 'MTH202','semester': 'F2022', 'prof': 'A', 'diff': 4.2, 'grade': 89},\n",
    "    {'code': 'ECN101','semester': 'F2022', 'prof': 'A', 'diff': 3.2, 'grade': 18},\n",
    "    {'code': 'MTH202','semester': 'W2022', 'prof': 'C', 'diff': 1.5, 'grade': 76},\n",
    "    {'code': 'ECN101','semester': 'F2022', 'prof': 'C', 'diff': 5.0, 'grade': 46},\n",
    "    {'code': 'MTH202','semester': 'F2022', 'prof': 'A', 'diff': 2.7, 'grade': 76},\n",
    "    {'code': 'MTH202','semester': 'W2022', 'prof': 'C', 'diff': 1.5, 'grade': 82},\n",
    "    {'code': 'ECN101','semester': 'F2022', 'prof': 'B', 'diff': 4.0, 'grade': 90},\n",
    "    {'code': 'MTH202','semester': 'W2022', 'prof': 'B', 'diff': 1.5, 'grade': 65},\n",
    "]\n",
    "\n",
    "ratings = pd.DataFrame(list_of_dicts)"
   ]
  },
  {
   "cell_type": "code",
   "execution_count": 21,
   "metadata": {},
   "outputs": [
    {
     "data": {
      "text/html": [
       "<div>\n",
       "<style scoped>\n",
       "    .dataframe tbody tr th:only-of-type {\n",
       "        vertical-align: middle;\n",
       "    }\n",
       "\n",
       "    .dataframe tbody tr th {\n",
       "        vertical-align: top;\n",
       "    }\n",
       "\n",
       "    .dataframe thead th {\n",
       "        text-align: right;\n",
       "    }\n",
       "</style>\n",
       "<table border=\"1\" class=\"dataframe\">\n",
       "  <thead>\n",
       "    <tr style=\"text-align: right;\">\n",
       "      <th></th>\n",
       "      <th>code</th>\n",
       "      <th>semester</th>\n",
       "      <th>prof</th>\n",
       "      <th>diff</th>\n",
       "      <th>grade</th>\n",
       "    </tr>\n",
       "  </thead>\n",
       "  <tbody>\n",
       "    <tr>\n",
       "      <th>0</th>\n",
       "      <td>ECN101</td>\n",
       "      <td>F2022</td>\n",
       "      <td>A</td>\n",
       "      <td>4.5</td>\n",
       "      <td>88</td>\n",
       "    </tr>\n",
       "    <tr>\n",
       "      <th>1</th>\n",
       "      <td>MTH202</td>\n",
       "      <td>F2022</td>\n",
       "      <td>B</td>\n",
       "      <td>5.0</td>\n",
       "      <td>45</td>\n",
       "    </tr>\n",
       "    <tr>\n",
       "      <th>2</th>\n",
       "      <td>ECN101</td>\n",
       "      <td>W2022</td>\n",
       "      <td>C</td>\n",
       "      <td>2.5</td>\n",
       "      <td>98</td>\n",
       "    </tr>\n",
       "    <tr>\n",
       "      <th>3</th>\n",
       "      <td>ECN101</td>\n",
       "      <td>W2022</td>\n",
       "      <td>B</td>\n",
       "      <td>3.5</td>\n",
       "      <td>90</td>\n",
       "    </tr>\n",
       "    <tr>\n",
       "      <th>4</th>\n",
       "      <td>MTH202</td>\n",
       "      <td>F2022</td>\n",
       "      <td>A</td>\n",
       "      <td>4.2</td>\n",
       "      <td>89</td>\n",
       "    </tr>\n",
       "    <tr>\n",
       "      <th>5</th>\n",
       "      <td>ECN101</td>\n",
       "      <td>F2022</td>\n",
       "      <td>A</td>\n",
       "      <td>3.2</td>\n",
       "      <td>18</td>\n",
       "    </tr>\n",
       "    <tr>\n",
       "      <th>6</th>\n",
       "      <td>MTH202</td>\n",
       "      <td>W2022</td>\n",
       "      <td>C</td>\n",
       "      <td>1.5</td>\n",
       "      <td>76</td>\n",
       "    </tr>\n",
       "    <tr>\n",
       "      <th>7</th>\n",
       "      <td>ECN101</td>\n",
       "      <td>F2022</td>\n",
       "      <td>C</td>\n",
       "      <td>5.0</td>\n",
       "      <td>46</td>\n",
       "    </tr>\n",
       "    <tr>\n",
       "      <th>8</th>\n",
       "      <td>MTH202</td>\n",
       "      <td>F2022</td>\n",
       "      <td>A</td>\n",
       "      <td>2.7</td>\n",
       "      <td>76</td>\n",
       "    </tr>\n",
       "    <tr>\n",
       "      <th>9</th>\n",
       "      <td>MTH202</td>\n",
       "      <td>W2022</td>\n",
       "      <td>C</td>\n",
       "      <td>1.5</td>\n",
       "      <td>82</td>\n",
       "    </tr>\n",
       "    <tr>\n",
       "      <th>10</th>\n",
       "      <td>ECN101</td>\n",
       "      <td>F2022</td>\n",
       "      <td>B</td>\n",
       "      <td>4.0</td>\n",
       "      <td>90</td>\n",
       "    </tr>\n",
       "    <tr>\n",
       "      <th>11</th>\n",
       "      <td>MTH202</td>\n",
       "      <td>W2022</td>\n",
       "      <td>B</td>\n",
       "      <td>1.5</td>\n",
       "      <td>65</td>\n",
       "    </tr>\n",
       "  </tbody>\n",
       "</table>\n",
       "</div>"
      ],
      "text/plain": [
       "      code semester prof  diff  grade\n",
       "0   ECN101    F2022    A   4.5     88\n",
       "1   MTH202    F2022    B   5.0     45\n",
       "2   ECN101    W2022    C   2.5     98\n",
       "3   ECN101    W2022    B   3.5     90\n",
       "4   MTH202    F2022    A   4.2     89\n",
       "5   ECN101    F2022    A   3.2     18\n",
       "6   MTH202    W2022    C   1.5     76\n",
       "7   ECN101    F2022    C   5.0     46\n",
       "8   MTH202    F2022    A   2.7     76\n",
       "9   MTH202    W2022    C   1.5     82\n",
       "10  ECN101    F2022    B   4.0     90\n",
       "11  MTH202    W2022    B   1.5     65"
      ]
     },
     "execution_count": 21,
     "metadata": {},
     "output_type": "execute_result"
    }
   ],
   "source": [
    "ratings"
   ]
  },
  {
   "cell_type": "markdown",
   "metadata": {},
   "source": [
    "# Case Study: Rating courses (2: Wrangling)\n",
    "\n",
    "Pandas offers a diverse set of features to work with data. We list a few of them and showcase each of them\n",
    "\n",
    "- describe: This will describe the dataset features such as average, standard deviation, count, and etc.\n",
    "    - min\n",
    "    - max\n",
    "    - mean\n",
    "    - std\n",
    "    - qunatile\n",
    "- shape: returns (# of rows, # of columns)\n",
    "- .T: transpose, rotates the dataframe"
   ]
  },
  {
   "cell_type": "code",
   "execution_count": 11,
   "metadata": {},
   "outputs": [
    {
     "data": {
      "text/html": [
       "<div>\n",
       "<style scoped>\n",
       "    .dataframe tbody tr th:only-of-type {\n",
       "        vertical-align: middle;\n",
       "    }\n",
       "\n",
       "    .dataframe tbody tr th {\n",
       "        vertical-align: top;\n",
       "    }\n",
       "\n",
       "    .dataframe thead th {\n",
       "        text-align: right;\n",
       "    }\n",
       "</style>\n",
       "<table border=\"1\" class=\"dataframe\">\n",
       "  <thead>\n",
       "    <tr style=\"text-align: right;\">\n",
       "      <th></th>\n",
       "      <th>diff</th>\n",
       "      <th>grade</th>\n",
       "    </tr>\n",
       "  </thead>\n",
       "  <tbody>\n",
       "    <tr>\n",
       "      <th>count</th>\n",
       "      <td>12.0</td>\n",
       "      <td>12.000000</td>\n",
       "    </tr>\n",
       "    <tr>\n",
       "      <th>mean</th>\n",
       "      <td>4.5</td>\n",
       "      <td>71.916667</td>\n",
       "    </tr>\n",
       "    <tr>\n",
       "      <th>std</th>\n",
       "      <td>0.0</td>\n",
       "      <td>24.066039</td>\n",
       "    </tr>\n",
       "    <tr>\n",
       "      <th>min</th>\n",
       "      <td>4.5</td>\n",
       "      <td>18.000000</td>\n",
       "    </tr>\n",
       "    <tr>\n",
       "      <th>25%</th>\n",
       "      <td>4.5</td>\n",
       "      <td>60.250000</td>\n",
       "    </tr>\n",
       "    <tr>\n",
       "      <th>50%</th>\n",
       "      <td>4.5</td>\n",
       "      <td>79.000000</td>\n",
       "    </tr>\n",
       "    <tr>\n",
       "      <th>75%</th>\n",
       "      <td>4.5</td>\n",
       "      <td>89.250000</td>\n",
       "    </tr>\n",
       "    <tr>\n",
       "      <th>max</th>\n",
       "      <td>4.5</td>\n",
       "      <td>98.000000</td>\n",
       "    </tr>\n",
       "  </tbody>\n",
       "</table>\n",
       "</div>"
      ],
      "text/plain": [
       "       diff      grade\n",
       "count  12.0  12.000000\n",
       "mean    4.5  71.916667\n",
       "std     0.0  24.066039\n",
       "min     4.5  18.000000\n",
       "25%     4.5  60.250000\n",
       "50%     4.5  79.000000\n",
       "75%     4.5  89.250000\n",
       "max     4.5  98.000000"
      ]
     },
     "execution_count": 11,
     "metadata": {},
     "output_type": "execute_result"
    }
   ],
   "source": [
    "ratings.describe()"
   ]
  },
  {
   "cell_type": "markdown",
   "metadata": {},
   "source": [
    "# Case Study: Rating courses (2: Analysis)\n",
    "\n",
    "groupby(): combines 3 steps all in one function:\n",
    "1. Split a DataFrame\n",
    "2. Apply a function\n",
    "3. Combine the results\n",
    "\n",
    "Examples: \n",
    "1. What is the average grade that students got for each professor? (Hint: use .mean())\n",
    "2. What is the average grade that students got for a given semester? (Hint: use .mean())\n",
    "3. What is the average grade that students got for each professor with respect to each course?\n",
    "4. What is the average grade that students got for each professor with respect to each course and semester?"
   ]
  },
  {
   "cell_type": "markdown",
   "metadata": {},
   "source": [
    "# Groupby exercises:\n",
    "1. What is the average difficulty that students got for each professor with respect to each course?\n",
    "2. What is the average difficulty that students got for each professor with respect to each course and semester?\n",
    "3. Use describe by exercises 1 and 2 and note the differences?\n",
    "4. What is the grade and difficulty average for with respect to semester, prof, and course?"
   ]
  },
  {
   "cell_type": "markdown",
   "metadata": {},
   "source": [
    "# Case Study: Rating courses (2: Analysis) (cont.)\n",
    "\n",
    "What would students with high marks label the course difficulty? \n",
    "\n",
    "## pivot_tables\n",
    "- values: these are the values that are going to be used as metric\n",
    "- index: Is one of the factors in sub setting the dataset\n",
    "- columns: Similar to index but it is horizontal\n",
    "\n",
    "Examples:\n",
    "1. What is the difficulty average for different grades and professors?\n",
    "2. What is the grade average for different difficulty and professors?"
   ]
  },
  {
   "cell_type": "markdown",
   "metadata": {},
   "source": [
    "# Programming exercise: Generating random data\n",
    "By looking at the pivot table we realize to fully use the functionality of pivot tables we will neeed more instances. But since we don't have access to actual real world data, we can generate data randomly using the following structures:\n",
    "- We can limit the number of semesters, courses, and etc.\n",
    "- Define a possible list of values\n",
    "- Choose randomly from the possible values\n",
    "- Populate rows"
   ]
  },
  {
   "cell_type": "code",
   "execution_count": 58,
   "metadata": {},
   "outputs": [],
   "source": [
    "# Note: You do not need understand every last bit of code here; just understand the overall logic behind it\n",
    "import random\n",
    "\n",
    "possible_courses = ['ECN101', 'MTH202', 'BTM178', 'HST675']\n",
    "possible_sems = ['F2022', 'W2022','F2021', 'W2021','F2020', 'W2020']\n",
    "possible_profs = ['A', 'B', 'C', 'D', 'E', 'F', 'G']\n",
    "\n",
    "NUM_INSTANCES = 1000\n",
    "\n",
    "l = []\n",
    "\n",
    "for i in range(NUM_INSTANCES):\n",
    "    instance = {}\n",
    "    instance['prof'] = random.choice(possible_profs)\n",
    "    instance['semester'] = random.choice(possible_sems)\n",
    "    instance['code'] = random.choice(possible_courses)\n",
    "\n",
    "    instance['grade'] = random.randint(70,100)\n",
    "    instance['diff'] = random.randint(0,100) / 20\n",
    "\n",
    "    l.append(instance)\n",
    "\n",
    "gen_data = pd.DataFrame(l)"
   ]
  },
  {
   "cell_type": "markdown",
   "metadata": {},
   "source": [
    "# Pivot tables exercise\n",
    "\n",
    "1. What is the difficulty average for different grades and professors on the generated data?\n",
    "2. What is the max difficulty for different semesters and professors on the generated data?\n",
    "2. What is the average grade for different semesters and professors on the generated data?"
   ]
  },
  {
   "cell_type": "markdown",
   "metadata": {},
   "source": [
    "# Case Study: Rating courses (2: Analysis) (cont.)\n",
    "\n",
    "- value_counts(): Number of repition for a given value within a column\n",
    "- hbar: horizontal barchart\n",
    "\n",
    "Examples:\n",
    "1. What are the repetition of unique values within code column?\n",
    "2. What are the repetition of unique values within code and prof column?\n",
    "3. Use *.plot.barh()* after the value_counts() in examples 1 and 2 to make a horizontal bar chart."
   ]
  },
  {
   "cell_type": "markdown",
   "metadata": {},
   "source": [
    "# Case Study: Rating courses (3: Manipulation)\n",
    "\n",
    "How would we convert numerical grades to grade codes?\n",
    "- There is a reached which corresponds to a letter 90-100 -> A+\n",
    "- Apply function: Go through every instance and check its range\n",
    "\n",
    "Putting the values within ranges will make it easier to analyze our data. What if we did the same for difficulty levels and made the pivot tables again?"
   ]
  },
  {
   "cell_type": "code",
   "execution_count": 78,
   "metadata": {},
   "outputs": [
    {
     "data": {
      "text/html": [
       "<div>\n",
       "<style scoped>\n",
       "    .dataframe tbody tr th:only-of-type {\n",
       "        vertical-align: middle;\n",
       "    }\n",
       "\n",
       "    .dataframe tbody tr th {\n",
       "        vertical-align: top;\n",
       "    }\n",
       "\n",
       "    .dataframe thead th {\n",
       "        text-align: right;\n",
       "    }\n",
       "</style>\n",
       "<table border=\"1\" class=\"dataframe\">\n",
       "  <thead>\n",
       "    <tr style=\"text-align: right;\">\n",
       "      <th>letter</th>\n",
       "      <th>A</th>\n",
       "      <th>A+</th>\n",
       "      <th>B</th>\n",
       "      <th>C</th>\n",
       "    </tr>\n",
       "    <tr>\n",
       "      <th>prof</th>\n",
       "      <th></th>\n",
       "      <th></th>\n",
       "      <th></th>\n",
       "      <th></th>\n",
       "    </tr>\n",
       "  </thead>\n",
       "  <tbody>\n",
       "    <tr>\n",
       "      <th>A</th>\n",
       "      <td>5.00</td>\n",
       "      <td>5.0</td>\n",
       "      <td>4.85</td>\n",
       "      <td>4.10</td>\n",
       "    </tr>\n",
       "    <tr>\n",
       "      <th>B</th>\n",
       "      <td>4.95</td>\n",
       "      <td>5.0</td>\n",
       "      <td>4.90</td>\n",
       "      <td>3.85</td>\n",
       "    </tr>\n",
       "    <tr>\n",
       "      <th>C</th>\n",
       "      <td>5.00</td>\n",
       "      <td>5.0</td>\n",
       "      <td>4.80</td>\n",
       "      <td>4.15</td>\n",
       "    </tr>\n",
       "    <tr>\n",
       "      <th>D</th>\n",
       "      <td>5.00</td>\n",
       "      <td>4.9</td>\n",
       "      <td>4.80</td>\n",
       "      <td>3.80</td>\n",
       "    </tr>\n",
       "    <tr>\n",
       "      <th>E</th>\n",
       "      <td>5.00</td>\n",
       "      <td>5.0</td>\n",
       "      <td>4.80</td>\n",
       "      <td>4.80</td>\n",
       "    </tr>\n",
       "    <tr>\n",
       "      <th>F</th>\n",
       "      <td>5.00</td>\n",
       "      <td>5.0</td>\n",
       "      <td>5.00</td>\n",
       "      <td>2.25</td>\n",
       "    </tr>\n",
       "    <tr>\n",
       "      <th>G</th>\n",
       "      <td>5.00</td>\n",
       "      <td>5.0</td>\n",
       "      <td>4.95</td>\n",
       "      <td>4.40</td>\n",
       "    </tr>\n",
       "  </tbody>\n",
       "</table>\n",
       "</div>"
      ],
      "text/plain": [
       "letter     A   A+     B     C\n",
       "prof                         \n",
       "A       5.00  5.0  4.85  4.10\n",
       "B       4.95  5.0  4.90  3.85\n",
       "C       5.00  5.0  4.80  4.15\n",
       "D       5.00  4.9  4.80  3.80\n",
       "E       5.00  5.0  4.80  4.80\n",
       "F       5.00  5.0  5.00  2.25\n",
       "G       5.00  5.0  4.95  4.40"
      ]
     },
     "execution_count": 78,
     "metadata": {},
     "output_type": "execute_result"
    }
   ],
   "source": [
    "def grade_convert(num):\n",
    "    if num > 90:\n",
    "        return 'A+'\n",
    "    elif num > 80:\n",
    "        return \"A\"\n",
    "    elif num > 70:\n",
    "        return \"B\"\n",
    "    else:\n",
    "        return \"C\"\n",
    "\n",
    "gen_data['letter'] = gen_data.grade.apply(grade_convert)\n",
    "gen_data.pivot_table(values='diff', index=\"prof\", columns = 'letter', aggfunc='max')"
   ]
  },
  {
   "cell_type": "code",
   "execution_count": 89,
   "metadata": {},
   "outputs": [
    {
     "data": {
      "text/html": [
       "<div>\n",
       "<style scoped>\n",
       "    .dataframe tbody tr th:only-of-type {\n",
       "        vertical-align: middle;\n",
       "    }\n",
       "\n",
       "    .dataframe tbody tr th {\n",
       "        vertical-align: top;\n",
       "    }\n",
       "\n",
       "    .dataframe thead th {\n",
       "        text-align: right;\n",
       "    }\n",
       "</style>\n",
       "<table border=\"1\" class=\"dataframe\">\n",
       "  <thead>\n",
       "    <tr style=\"text-align: right;\">\n",
       "      <th>level</th>\n",
       "      <th>Easy</th>\n",
       "      <th>Hard</th>\n",
       "      <th>Medium</th>\n",
       "    </tr>\n",
       "    <tr>\n",
       "      <th>prof</th>\n",
       "      <th></th>\n",
       "      <th></th>\n",
       "      <th></th>\n",
       "    </tr>\n",
       "  </thead>\n",
       "  <tbody>\n",
       "    <tr>\n",
       "      <th>A</th>\n",
       "      <td>84.578947</td>\n",
       "      <td>85.400000</td>\n",
       "      <td>85.318182</td>\n",
       "    </tr>\n",
       "    <tr>\n",
       "      <th>B</th>\n",
       "      <td>83.526316</td>\n",
       "      <td>83.244444</td>\n",
       "      <td>83.975000</td>\n",
       "    </tr>\n",
       "    <tr>\n",
       "      <th>C</th>\n",
       "      <td>85.758065</td>\n",
       "      <td>83.159091</td>\n",
       "      <td>85.944444</td>\n",
       "    </tr>\n",
       "    <tr>\n",
       "      <th>D</th>\n",
       "      <td>86.758065</td>\n",
       "      <td>85.916667</td>\n",
       "      <td>83.388889</td>\n",
       "    </tr>\n",
       "    <tr>\n",
       "      <th>E</th>\n",
       "      <td>85.032258</td>\n",
       "      <td>85.428571</td>\n",
       "      <td>85.051282</td>\n",
       "    </tr>\n",
       "    <tr>\n",
       "      <th>F</th>\n",
       "      <td>85.541667</td>\n",
       "      <td>85.100000</td>\n",
       "      <td>84.829268</td>\n",
       "    </tr>\n",
       "    <tr>\n",
       "      <th>G</th>\n",
       "      <td>86.631579</td>\n",
       "      <td>84.132075</td>\n",
       "      <td>85.200000</td>\n",
       "    </tr>\n",
       "  </tbody>\n",
       "</table>\n",
       "</div>"
      ],
      "text/plain": [
       "level       Easy       Hard     Medium\n",
       "prof                                  \n",
       "A      84.578947  85.400000  85.318182\n",
       "B      83.526316  83.244444  83.975000\n",
       "C      85.758065  83.159091  85.944444\n",
       "D      86.758065  85.916667  83.388889\n",
       "E      85.032258  85.428571  85.051282\n",
       "F      85.541667  85.100000  84.829268\n",
       "G      86.631579  84.132075  85.200000"
      ]
     },
     "execution_count": 89,
     "metadata": {},
     "output_type": "execute_result"
    }
   ],
   "source": [
    "def diff_convert(num):\n",
    "    if num > 3.5:\n",
    "        return 'Hard'\n",
    "    elif num > 2:\n",
    "        return \"Medium\"\n",
    "    else:\n",
    "        return \"Easy\"\n",
    "\n",
    "gen_data['level'] = gen_data['diff'].apply(diff_convert)\n",
    "gen_data.pivot_table(values='grade', index=\"prof\", columns = 'level', aggfunc='mean')"
   ]
  },
  {
   "cell_type": "markdown",
   "metadata": {},
   "source": [
    "# Exercise: apply function\n",
    "1. Change the grade_convert function: add B+ and A-.\n",
    "2. Change the difficulty level: hard when bigger than 4 and medium if bigger than 2.5.\n",
    "3. Get the number of occurrences for unique values within the letter column and plot a horizontal bar chart."
   ]
  },
  {
   "cell_type": "markdown",
   "metadata": {},
   "source": [
    "# Regression\n",
    "\n",
    "- Load data\n",
    "- Run a regression model\n",
    "- Evaluate performance \n",
    "\n",
    "## EDA\n",
    "\n",
    "1. Are there any missing values within the data?\n",
    "2. What is the correlation of target column with feature columns?\n",
    "3. Split the data into train and test."
   ]
  },
  {
   "cell_type": "code",
   "execution_count": 81,
   "metadata": {},
   "outputs": [],
   "source": [
    "from sklearn import datasets\n",
    "\n",
    "raw = datasets.load_diabetes()\n",
    "\n",
    "df = pd.DataFrame(raw['data'], columns=raw['feature_names'])\n",
    "df['target'] = raw['target']"
   ]
  },
  {
   "cell_type": "markdown",
   "metadata": {},
   "source": [
    "## Run regression\n",
    "\n",
    "1. Regression: y = w * x + b\n",
    "    - Linear, Ridge, and Lasso\n",
    "    - Check the different weights \n",
    "    - score returns coefficient of determination\n",
    "2. Decision tree"
   ]
  },
  {
   "cell_type": "code",
   "execution_count": 113,
   "metadata": {},
   "outputs": [
    {
     "name": "stdout",
     "output_type": "stream",
     "text": [
      "0.5103942572821248 0.36246898582743314 0.44451113757354543\n"
     ]
    }
   ],
   "source": [
    "from sklearn.linear_model import LinearRegression, Lasso, Ridge\n",
    "\n",
    "reg = LinearRegression().fit(X_train, y_train)\n",
    "lasso = Lasso().fit(X_train, y_train)\n",
    "ridge = Ridge().fit(X_train, y_train)\n",
    "\n",
    "print(reg.score(X_test,y_test), lasso.score(X_test,y_test), ridge.score(X_test,y_test))"
   ]
  },
  {
   "cell_type": "code",
   "execution_count": 116,
   "metadata": {},
   "outputs": [
    {
     "data": {
      "text/plain": [
       "(array([  32.14928032, -242.82449076,  559.98996952,  407.63766881,\n",
       "        -718.69857577,  396.63703933,   10.432395  ,  171.81955335,\n",
       "         627.07993787,  -21.62312454]),\n",
       " array([  0.        ,  -0.        , 425.89571524,  69.18564617,\n",
       "          0.        ,   0.        ,  -0.        ,   0.        ,\n",
       "        177.77602164,   0.        ]),\n",
       " array([  40.22980953,  -61.68895989,  273.28957886,  197.33039238,\n",
       "          -1.61646667,  -19.12539101, -142.98112377,  107.37594422,\n",
       "         195.22479197,   84.33273189]))"
      ]
     },
     "execution_count": 116,
     "metadata": {},
     "output_type": "execute_result"
    }
   ],
   "source": [
    "reg.coef_, lasso.coef_, ridge.coef_"
   ]
  },
  {
   "cell_type": "code",
   "execution_count": 101,
   "metadata": {},
   "outputs": [
    {
     "name": "stdout",
     "output_type": "stream",
     "text": [
      "-0.15118398306085012\n"
     ]
    }
   ],
   "source": [
    "from sklearn.tree import DecisionTreeRegressor\n",
    "\n",
    "dt = DecisionTreeRegressor(random_state=0).fit(X_train, y_train)\n",
    "print(dt.score(X_test,y_test))"
   ]
  },
  {
   "cell_type": "markdown",
   "metadata": {},
   "source": [
    "## Model evaluation\n",
    "\n",
    "- cross validation: Breaks data into 10 parts and trains the models on 9 of the partitions and tests the score on one of the partitons that the model is not rained on\n",
    "- Mean Absolute Error (MAE)\n",
    "- For certain loss functions, the lower the value: more accurate the model. And for others, higher value: more accurate \n",
    "    - Coefficient of Determination: means how well the model fits the data, 0.6 means the model fits 60% of the data\n",
    "    - MAE: the lower this value, the more accurate the results"
   ]
  },
  {
   "cell_type": "code",
   "execution_count": 117,
   "metadata": {},
   "outputs": [
    {
     "name": "stdout",
     "output_type": "stream",
     "text": [
      "[0.5561455  0.23055827 0.35357673 0.62190752 0.2658727  0.61819798\n",
      " 0.41815142 0.43513747 0.43436229 0.68569253]\n",
      "[-0.39292219 -0.46749346  0.02768473  0.06441362 -0.50323135  0.16437202\n",
      "  0.11242982 -0.73798979 -0.30953155 -0.00137327]\n"
     ]
    }
   ],
   "source": [
    "from sklearn.model_selection import cross_val_score\n",
    "\n",
    "print(cross_val_score(reg, df.iloc[:,:-1], df.target, cv=10))\n",
    "print(cross_val_score(dt, df.iloc[:,:-1], df.target, cv=10))\n"
   ]
  },
  {
   "cell_type": "code",
   "execution_count": 119,
   "metadata": {},
   "outputs": [],
   "source": [
    "from sklearn.metrics import mean_squared_error\n",
    "\n",
    "reg_mae = mean_squared_error(reg.predict(X_test), y_test)\n",
    "lasso_mae = mean_squared_error(lasso.predict(X_test), y_test)\n",
    "ridge_mae = mean_squared_error(ridge.predict(X_test), y_test)\n",
    "dt_mae = mean_squared_error(dt.predict(X_test), y_test)\n",
    "\n",
    "print(reg_mae, lasso_mae, ridge_mae, dt_mae)"
   ]
  },
  {
   "cell_type": "code",
   "execution_count": null,
   "metadata": {},
   "outputs": [],
   "source": []
  }
 ],
 "metadata": {
  "colab": {
   "collapsed_sections": [],
   "name": "Master_BCH_Classification.ipynb",
   "provenance": [],
   "version": "0.3.2"
  },
  "kernelspec": {
   "display_name": "Python 3",
   "language": "python",
   "name": "python3"
  },
  "language_info": {
   "codemirror_mode": {
    "name": "ipython",
    "version": 3
   },
   "file_extension": ".py",
   "mimetype": "text/x-python",
   "name": "python",
   "nbconvert_exporter": "python",
   "pygments_lexer": "ipython3",
   "version": "3.11.4"
  }
 },
 "nbformat": 4,
 "nbformat_minor": 1
}
