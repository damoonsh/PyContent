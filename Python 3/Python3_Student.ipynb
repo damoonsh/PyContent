{
 "cells": [
  {
   "cell_type": "markdown",
   "metadata": {
    "colab_type": "text",
    "id": "r0TTHn6jK4HV"
   },
   "source": [
    "# Python 3\n",
    "\n",
    "Welcome to Python 3!\n",
    "\n",
    "In this notebook we will:\n",
    "1. Import required modules and dataset\n",
    "2. Aggregate large amounts of data\n",
    "3. Merge multiple data sources into a DataFrame\n",
    "4. Create spreadsheet-style pivot tables as a DataFrame"
   ]
  },
  {
   "cell_type": "code",
   "execution_count": 43,
   "metadata": {},
   "outputs": [],
   "source": [
    "#Import Pandas to your workspace\n"
   ]
  },
  {
   "cell_type": "code",
   "execution_count": 44,
   "metadata": {},
   "outputs": [],
   "source": [
    "#Read the \"features.csv\" file and store it into a variable\n"
   ]
  },
  {
   "cell_type": "code",
   "execution_count": 45,
   "metadata": {},
   "outputs": [],
   "source": [
    "#print out first 5 rows\n"
   ]
  },
  {
   "cell_type": "markdown",
   "metadata": {},
   "source": [
    "# Index\n",
    "The index of a DataFrame is used as the \"address\" for specific data points. As we saw in Python 2, by providing these indexes to .loc, we can access different ranges of data. Both the X and Y axes have an index. For rows, we can use the default integer index, or we can assign a column to act as the index. For columns, the column names are the index.\n",
    "\n"
   ]
  },
  {
   "cell_type": "code",
   "execution_count": 46,
   "metadata": {},
   "outputs": [],
   "source": [
    "#Read the \"features.csv\" file and store it into a variable\n"
   ]
  },
  {
   "cell_type": "code",
   "execution_count": 47,
   "metadata": {},
   "outputs": [],
   "source": [
    "#Display the first few rows of the DataFrame\n"
   ]
  },
  {
   "cell_type": "markdown",
   "metadata": {},
   "source": [
    "<h1>groupby()</h1>\n",
    "\n",
    "<ul>\n",
    "    <li>groupby combines 3 steps all in one function:\n",
    "        <ol>\n",
    "            <li>Split a DataFrame</li>\n",
    "            <li>Apply a function</li>\n",
    "            <li>Combine the results</li>\n",
    "        </ol>\n",
    "    </li>\n",
    "    <li>groupby must be given the name of the column to group by as a string</li>\n",
    "    <li>The column to apply the function onto must also be specified, as well as the function to apply</li>\n",
    "</ul>"
   ]
  },
  {
   "cell_type": "markdown",
   "metadata": {},
   "source": [
    "<img src=\"images/groupbyviz.jfif\"/>"
   ]
  },
  {
   "cell_type": "code",
   "execution_count": 48,
   "metadata": {},
   "outputs": [],
   "source": [
    "#Apply groupby to the Year and Month columns, calculating the mean of the CIP\n"
   ]
  },
  {
   "cell_type": "code",
   "execution_count": 49,
   "metadata": {},
   "outputs": [],
   "source": [
    "# Exercise: Group based on Year and then get the max,min, average for CPI\n"
   ]
  },
  {
   "cell_type": "code",
   "execution_count": 50,
   "metadata": {},
   "outputs": [],
   "source": [
    "#Groupby returns a DataFrame, so we have access to all the same methods we saw earlier\n"
   ]
  },
  {
   "cell_type": "code",
   "execution_count": 51,
   "metadata": {},
   "outputs": [],
   "source": [
    "# 6:23 for exercise1\n"
   ]
  },
  {
   "cell_type": "code",
   "execution_count": 52,
   "metadata": {},
   "outputs": [],
   "source": [
    "# Exercise : Group by based on Store and Year and then get the average for CPI and Fuel_price\n"
   ]
  },
  {
   "cell_type": "code",
   "execution_count": 53,
   "metadata": {},
   "outputs": [],
   "source": [
    "# Exercise : \n",
    "# 1. Filter the dataframe for fuel Prices above average \n",
    "# 2. Group by based on Month and Year and then get the average, min, max for CPI and Fuel_price\n",
    "# Filtering\n",
    "\n",
    "# Group by\n"
   ]
  },
  {
   "cell_type": "code",
   "execution_count": 54,
   "metadata": {},
   "outputs": [],
   "source": [
    "#1. Read the \"stores.csv\" file and store it into a variable called stores\n"
   ]
  },
  {
   "cell_type": "code",
   "execution_count": 55,
   "metadata": {},
   "outputs": [],
   "source": [
    "#2. Display the first few rows of the stores DataFrame\n"
   ]
  },
  {
   "cell_type": "code",
   "execution_count": 56,
   "metadata": {},
   "outputs": [],
   "source": [
    "#3. Redefine the Type column to lower case\n"
   ]
  },
  {
   "cell_type": "code",
   "execution_count": 57,
   "metadata": {},
   "outputs": [],
   "source": [
    "#4. Display the first few rows to verify changes\n"
   ]
  },
  {
   "cell_type": "code",
   "execution_count": 58,
   "metadata": {},
   "outputs": [],
   "source": [
    "#5. Rename the 'Size' column to 'Area'\n"
   ]
  },
  {
   "cell_type": "markdown",
   "metadata": {},
   "source": [
    "<h1>merge()</h1>\n",
    "\n",
    "<ul>\n",
    "    <li>Merge two DataFrames along common columns</li>\n",
    "    <li>Must be provided the DataFrame to merge with, as well as the names of the common columns</li>\n",
    "    <li>Will merge and map rows where the values in both DataFrames are equal</li>\n",
    "</ul>"
   ]
  },
  {
   "cell_type": "markdown",
   "metadata": {},
   "source": [
    "<img src=\"images/mergetypes.png\"/>"
   ]
  },
  {
   "cell_type": "markdown",
   "metadata": {},
   "source": [
    "<img src=\"images/mergeinner.png\"/>"
   ]
  },
  {
   "cell_type": "code",
   "execution_count": 59,
   "metadata": {},
   "outputs": [],
   "source": [
    "#Merge the stores DataFrame into the features DataFrame on the Stores column\n",
    "             # x              y\n"
   ]
  },
  {
   "cell_type": "code",
   "execution_count": 60,
   "metadata": {},
   "outputs": [],
   "source": [
    "#Display a few rows to verify changes\n"
   ]
  },
  {
   "cell_type": "markdown",
   "metadata": {},
   "source": [
    "<h1>apply()</h1>\n",
    "\n",
    "<ul>\n",
    "    <li>Allows us to apply a custom function along an axis of the DataFrame</li>\n",
    "    <li>Can pull on logic from Python 1 to convert our numerical data to categorical</li>\n",
    "</ul>\n"
   ]
  },
  {
   "cell_type": "code",
   "execution_count": 61,
   "metadata": {},
   "outputs": [],
   "source": [
    "#Define a function to convert float values to our custom categorical ranges\n"
   ]
  },
  {
   "cell_type": "code",
   "execution_count": 62,
   "metadata": {},
   "outputs": [],
   "source": [
    "#With the apply() function we can apply our custom function to each value of the Series\n"
   ]
  },
  {
   "cell_type": "code",
   "execution_count": 63,
   "metadata": {},
   "outputs": [],
   "source": [
    "# Exercise: use apply to make a column called price_index\n",
    "# if price < 3: OK and bigger than: expensive\n"
   ]
  },
  {
   "cell_type": "code",
   "execution_count": 64,
   "metadata": {},
   "outputs": [],
   "source": [
    "#  a : east\n",
    "#  01234\n",
    "\n",
    "# 'a', ':', 'east'\n",
    "#  0    1     2"
   ]
  },
  {
   "cell_type": "code",
   "execution_count": 65,
   "metadata": {},
   "outputs": [],
   "source": [
    "#lambda function \n",
    "# 1 time use functions"
   ]
  },
  {
   "cell_type": "code",
   "execution_count": 66,
   "metadata": {},
   "outputs": [],
   "source": [
    "#lambda function \n"
   ]
  },
  {
   "cell_type": "markdown",
   "metadata": {},
   "source": [
    "<h1>pivot_table()</h1>\n",
    "\n",
    "<ul>\n",
    "    <li>Create a spreadsheet-style pivot table as a DataFrame.</li>\n",
    "    <li>Different from Groupby in shape of resulting DataFrame. Number of columns based on value passed and not combinations.</li>\n",
    "</ul>\n"
   ]
  },
  {
   "cell_type": "code",
   "execution_count": 67,
   "metadata": {},
   "outputs": [],
   "source": [
    "#Create a Pivot table that displays the mean CPI by store type and year\n"
   ]
  },
  {
   "cell_type": "code",
   "execution_count": 68,
   "metadata": {},
   "outputs": [],
   "source": [
    "# 7:28 excercise\n"
   ]
  },
  {
   "cell_type": "code",
   "execution_count": 69,
   "metadata": {},
   "outputs": [],
   "source": [
    "#Exercise\n",
    "#Create a Pivot Table to display the mean fuel prices by store and temperature\n"
   ]
  },
  {
   "cell_type": "code",
   "execution_count": 70,
   "metadata": {},
   "outputs": [],
   "source": [
    "#Do the same as above using groupby instead of pivot table method\n"
   ]
  },
  {
   "cell_type": "code",
   "execution_count": 71,
   "metadata": {},
   "outputs": [],
   "source": [
    "# Export the final version of our DataFrame to a .csv file named \"final_data.csv\" \n"
   ]
  }
 ],
 "metadata": {
  "colab": {
   "collapsed_sections": [],
   "name": "Master_BCH_Classification.ipynb",
   "provenance": [],
   "version": "0.3.2"
  },
  "kernelspec": {
   "display_name": "Python 3.7.10 - rstudio",
   "language": "python",
   "name": "rstudio-user-3.7.10"
  },
  "language_info": {
   "codemirror_mode": {
    "name": "ipython",
    "version": 3
   },
   "file_extension": ".py",
   "mimetype": "text/x-python",
   "name": "python",
   "nbconvert_exporter": "python",
   "pygments_lexer": "ipython3",
   "version": "3.7.10"
  }
 },
 "nbformat": 4,
 "nbformat_minor": 1
}
