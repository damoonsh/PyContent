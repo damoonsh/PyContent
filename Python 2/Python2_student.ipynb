{
 "cells": [
  {
   "cell_type": "markdown",
   "metadata": {},
   "source": [
    "## Jupyter Notebook \n",
    "\n",
    "This is a web-based application (runs in the browser) that is used to interpret Python code. \n",
    "\n",
    "- To add more code cells (or blocks) click on the **'+'** button in the top left corner\n",
    "- There are 3 cell types in Jupyter:\n",
    "    - Code: Used to write Python code\n",
    "    - Markdown: Used to write texts (can be used to write explanations and other key information)\n",
    "    - NBConvert: Used convert Jupyter (.ipynb) files to other formats (HTML, LaTex, etc.) \n",
    "    \n",
    "\n",
    "- To run Python code in a specific cell, you can click on the **'Run'** button at the top or press **Shift + Enter**\n",
    "- The number sign (#) is used to insert comments when coding to leave messages for yourself or others. These comments will not be interpreted as code and are overlooked by the program\n"
   ]
  },
  {
   "cell_type": "markdown",
   "metadata": {},
   "source": [
    "<h1>Classes</h1>\n",
    "<ul>\n",
    "  <li>\n",
    "  Object-orientated programming approach popular and efficient\n",
    "  </li>\n",
    "  <li>\n",
    "   Define classes of real-world things or situations (can be thought of as creating your own data type)\n",
    "    <ul>\n",
    "      <li>Attributes of various data types</li>\n",
    "      <li>Functions inside of a class are the same except called methods</li>\n",
    "      <li>Methods may be accessed using the dot operator</li>\n",
    "    </ul>\n",
    "  </li>\n",
    "  <li>Instanciate objects of your classes</li>\n",
    "  <li>__init()__ method used to prefill attributes</li>\n",
    "  <li>Capitalize class names</li>\n",
    "</ul>"
   ]
  },
  {
   "cell_type": "code",
   "execution_count": 1,
   "metadata": {},
   "outputs": [],
   "source": [
    "#Create a class to store employee info and outputy a employee description\n",
    "   "
   ]
  },
  {
   "cell_type": "code",
   "execution_count": 2,
   "metadata": {},
   "outputs": [],
   "source": [
    "#Create a Payment class and assign it 3 attributes: payer is who is paying, payee is being payed, amount dollar amount\n"
   ]
  },
  {
   "cell_type": "code",
   "execution_count": 3,
   "metadata": {},
   "outputs": [
    {
     "name": "stdout",
     "output_type": "stream",
     "text": [
      "Requirement already satisfied: pandas in /cloud/lib/lib/python3.7/site-packages (1.3.4)\n",
      "Requirement already satisfied: python-dateutil>=2.7.3 in /opt/python/3.7.10/lib/python3.7/site-packages (from pandas) (2.8.2)\n",
      "Requirement already satisfied: numpy>=1.17.3 in /cloud/lib/lib/python3.7/site-packages (from pandas) (1.21.3)\n",
      "Requirement already satisfied: pytz>=2017.3 in /cloud/lib/lib/python3.7/site-packages (from pandas) (2021.3)\n",
      "Requirement already satisfied: six>=1.5 in /opt/python/3.7.10/lib/python3.7/site-packages (from python-dateutil>=2.7.3->pandas) (1.16.0)\n",
      "Note: you may need to restart the kernel to use updated packages.\n"
     ]
    }
   ],
   "source": [
    "%pip install pandas\n",
    "import pandas as pd"
   ]
  },
  {
   "cell_type": "markdown",
   "metadata": {},
   "source": [
    "## Pandas\n",
    "\n",
    "Pandas is a fast, powerful, flexible and easy to use open source data analysis and manipulation tool,\n",
    "built on top of the Python programming language. \n",
    "\n",
    "It will seamlessly bridge the gap between Python and Excel.\n",
    "\n",
    "\n",
    "Built Around 2 Main Classes:\n",
    " - DataFrames\n",
    " - Series"
   ]
  },
  {
   "cell_type": "code",
   "execution_count": 4,
   "metadata": {},
   "outputs": [],
   "source": [
    "#Import pandas and assign it to a shorthand name pd \n"
   ]
  },
  {
   "cell_type": "markdown",
   "metadata": {},
   "source": [
    "<h1>Reading CSV Files</h1>\n",
    "\n",
    "<ul>\n",
    "    <li>Function to use in Pandas: read_csv()</li>\n",
    "    <li>Value passed to read_csv() must be string and the <b>exact</b> name of the file</li>\n",
    "    <li>CSV Files must be in the same directory as the python file/notebook</li>\n",
    "</ul>"
   ]
  },
  {
   "cell_type": "code",
   "execution_count": 5,
   "metadata": {},
   "outputs": [],
   "source": [
    "#Read our data into a DataFrame names features_df\n",
    "#read_excel does the same but for spreadsheet files\n"
   ]
  },
  {
   "cell_type": "markdown",
   "metadata": {},
   "source": [
    "<h1>Basic DataFrame Functions</h1>\n",
    "\n",
    "<ul>\n",
    "    <li>head() will display the first 5 values of the DataFrame</li>\n",
    "    <li>tail() will display the last 5 values of the DataFrame </li>\n",
    "    <li>shape will display the dimensions of the DataFrame</li>\n",
    "    <li>columns() will return the columns of the DataFrame as a list</li>\n",
    "    <li>dtypes will display the types of each column of the DataFrame</li>\n",
    "    <li>drop() will remove a column from the DataFrame</li>\n",
    "</ul>"
   ]
  },
  {
   "cell_type": "code",
   "execution_count": 6,
   "metadata": {
    "scrolled": true
   },
   "outputs": [],
   "source": [
    "#display the top 5 rows"
   ]
  },
  {
   "cell_type": "code",
   "execution_count": 7,
   "metadata": {},
   "outputs": [],
   "source": [
    "#Display bottom 5 rows\n"
   ]
  },
  {
   "cell_type": "code",
   "execution_count": 8,
   "metadata": {},
   "outputs": [],
   "source": [
    "#Print dimensions of DataFrame as tuple\n"
   ]
  },
  {
   "cell_type": "code",
   "execution_count": 9,
   "metadata": {},
   "outputs": [],
   "source": [
    "#Print list of column values\n"
   ]
  },
  {
   "cell_type": "code",
   "execution_count": 10,
   "metadata": {},
   "outputs": [],
   "source": [
    "#To only rename specific columns\n"
   ]
  },
  {
   "cell_type": "code",
   "execution_count": 11,
   "metadata": {},
   "outputs": [],
   "source": [
    "#Print Pandas-specific data types of all columns\n"
   ]
  },
  {
   "cell_type": "markdown",
   "metadata": {},
   "source": [
    "<h1>Indexing and Series Functions</h1>\n",
    "\n",
    "<ul>\n",
    "    <li>Columns of a DataFrame can be accessed through the following format: df_name[\"name_of_column\"] </li>\n",
    "    <li>Columns will be returned as a Series, which have different methods than DataFrames </li>\n",
    "    <li>A couple useful Series functions: max(), median(), min(), value_counts(), sort_values()</li>\n",
    "</ul>"
   ]
  },
  {
   "cell_type": "code",
   "execution_count": 12,
   "metadata": {},
   "outputs": [],
   "source": [
    "#Extract CPI column of features_df\n"
   ]
  },
  {
   "cell_type": "code",
   "execution_count": 13,
   "metadata": {},
   "outputs": [],
   "source": [
    "#Maximum value in Series\n"
   ]
  },
  {
   "cell_type": "code",
   "execution_count": 14,
   "metadata": {},
   "outputs": [],
   "source": [
    "#Median value in Series\n"
   ]
  },
  {
   "cell_type": "code",
   "execution_count": 15,
   "metadata": {},
   "outputs": [],
   "source": [
    "#Minimum value in Series\n"
   ]
  },
  {
   "cell_type": "code",
   "execution_count": 16,
   "metadata": {},
   "outputs": [],
   "source": [
    "#Basic Statistical Summary of a column\n"
   ]
  },
  {
   "cell_type": "code",
   "execution_count": 17,
   "metadata": {},
   "outputs": [],
   "source": [
    "#Print list of unique values\n"
   ]
  },
  {
   "cell_type": "code",
   "execution_count": 18,
   "metadata": {},
   "outputs": [],
   "source": [
    "#Print unique values and frequency\n"
   ]
  },
  {
   "cell_type": "code",
   "execution_count": null,
   "metadata": {},
   "outputs": [],
   "source": []
  },
  {
   "cell_type": "code",
   "execution_count": 19,
   "metadata": {},
   "outputs": [],
   "source": [
    "#Return a sorted DataFrame acording to specified column\n"
   ]
  },
  {
   "cell_type": "code",
   "execution_count": 20,
   "metadata": {},
   "outputs": [],
   "source": [
    "# delete one column\n"
   ]
  },
  {
   "cell_type": "code",
   "execution_count": null,
   "metadata": {},
   "outputs": [],
   "source": [
    "# Check for missing values and how many\n"
   ]
  },
  {
   "cell_type": "code",
   "execution_count": null,
   "metadata": {},
   "outputs": [],
   "source": [
    "# delete multiple columns\n"
   ]
  },
  {
   "cell_type": "code",
   "execution_count": null,
   "metadata": {},
   "outputs": [],
   "source": [
    "#More efficient way method\n",
    "#Uses matrix manipulation instead of row by row increments\n"
   ]
  },
  {
   "cell_type": "code",
   "execution_count": null,
   "metadata": {},
   "outputs": [],
   "source": [
    "#Say a colleague of yours asks for a new metric called \"customerCost\"\n",
    "#Add a column that is equal to Fuel_Price * CPI \n"
   ]
  },
  {
   "cell_type": "markdown",
   "metadata": {},
   "source": [
    "<h1>Indexing</h1>\n",
    "\n",
    "<ul>\n",
    "    <li>Because Pandas will select entries based on column values by default, selecting data based on row values requires the use of the iloc method. \n",
    "    </li>\n",
    "    <li>\n",
    "      Allowed inputs are:\n",
    "        <ul>\n",
    "            <li>An integer, e.g. 5.</li>\n",
    "            <li>A list or array of integers, e.g. [4, 3, 0].</li>\n",
    "            <li>A slice object with ints, e.g. 1:7.</li>\n",
    "        </ul>\n",
    "    </li>\n",
    "</ul>"
   ]
  },
  {
   "cell_type": "code",
   "execution_count": null,
   "metadata": {},
   "outputs": [],
   "source": [
    "#Return Fuel_Price to IsHoliday columns of 0-10th rows\n",
    "#Note how LOC can reference columns by their names\n"
   ]
  },
  {
   "cell_type": "code",
   "execution_count": null,
   "metadata": {},
   "outputs": [],
   "source": [
    "#100, 125, 133\n"
   ]
  },
  {
   "cell_type": "code",
   "execution_count": null,
   "metadata": {},
   "outputs": [],
   "source": [
    "#Retrieve the CPI and customerCost of rows 500 to 505\n"
   ]
  },
  {
   "cell_type": "code",
   "execution_count": null,
   "metadata": {},
   "outputs": [],
   "source": [
    "#We can also retrieve rows with a condition\n"
   ]
  },
  {
   "cell_type": "code",
   "execution_count": null,
   "metadata": {},
   "outputs": [],
   "source": [
    "#We can layer conditions with &\n"
   ]
  },
  {
   "cell_type": "code",
   "execution_count": null,
   "metadata": {},
   "outputs": [],
   "source": [
    "#Retrieve all rows with a isHoliday that is True and customerCost larger than 550\n"
   ]
  },
  {
   "cell_type": "code",
   "execution_count": null,
   "metadata": {},
   "outputs": [],
   "source": [
    "#Retrieve a couple rows from their ROW index values\n",
    "#loc by columns names\n",
    "#iloc by index values\n"
   ]
  },
  {
   "cell_type": "code",
   "execution_count": null,
   "metadata": {},
   "outputs": [],
   "source": [
    "#We may also provide specific row/column values to access specific values\n",
    "#this returns the unemployment at row 20\n"
   ]
  },
  {
   "cell_type": "code",
   "execution_count": null,
   "metadata": {},
   "outputs": [],
   "source": [
    "#Multiple rows and specific columns\n"
   ]
  },
  {
   "cell_type": "code",
   "execution_count": null,
   "metadata": {},
   "outputs": [],
   "source": [
    "#Access rows 1 to 3 for Store column to Fuel_Price\n"
   ]
  },
  {
   "cell_type": "markdown",
   "metadata": {},
   "source": [
    "<h1>Formatting Data</h1>\n",
    "\n",
    "<ul>\n",
    "    <li>To access and format the string values of a DataFrame, we can access methods within the \"str\" module of the DataFrame </li>\n",
    "    <li>We may also format float values using options.display.float_format() in Pandas</li>\n",
    "</ul>"
   ]
  },
  {
   "cell_type": "code",
   "execution_count": null,
   "metadata": {},
   "outputs": [],
   "source": [
    "#By accessing .str, we gain access to all the string methods we covered in Python 1!\n"
   ]
  },
  {
   "cell_type": "code",
   "execution_count": null,
   "metadata": {},
   "outputs": [],
   "source": [
    "#Format float \n"
   ]
  },
  {
   "cell_type": "code",
   "execution_count": null,
   "metadata": {},
   "outputs": [],
   "source": [
    "#Export the current version of our DataFrame to a .csv file\n"
   ]
  }
 ],
 "metadata": {
  "kernelspec": {
   "display_name": "Python 3.7.10 - rstudio",
   "language": "python",
   "name": "rstudio-user-3.7.10"
  },
  "language_info": {
   "codemirror_mode": {
    "name": "ipython",
    "version": 3
   },
   "file_extension": ".py",
   "mimetype": "text/x-python",
   "name": "python",
   "nbconvert_exporter": "python",
   "pygments_lexer": "ipython3",
   "version": "3.7.10"
  }
 },
 "nbformat": 4,
 "nbformat_minor": 2
}
