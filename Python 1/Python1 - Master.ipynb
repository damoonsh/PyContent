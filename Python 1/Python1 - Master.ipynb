{
 "cells": [
  {
   "cell_type": "markdown",
   "id": "67217abf",
   "metadata": {},
   "source": [
    "# Data Types\n",
    "Primitive Types\n",
    "1. Integers\n",
    "2. Floats\n",
    "3. Booleans\n",
    "4. Strings\n",
    "\n",
    "**Note**: We can use the type function to get the type of each entity."
   ]
  },
  {
   "cell_type": "code",
   "execution_count": 31,
   "id": "fc0f5955",
   "metadata": {},
   "outputs": [
    {
     "name": "stdout",
     "output_type": "stream",
     "text": [
      "You can print using f-string.\n"
     ]
    }
   ],
   "source": [
    "### f-string printing\n",
    "\n",
    "action = 'print'\n",
    "\n",
    "print(f'You can {action} using f-string.')"
   ]
  },
  {
   "cell_type": "code",
   "execution_count": 32,
   "id": "bb9f36d0",
   "metadata": {},
   "outputs": [
    {
     "name": "stdout",
     "output_type": "stream",
     "text": [
      "max is attending bootcamps on 02/27/2023\n"
     ]
    }
   ],
   "source": [
    "# Exercise: Fill out name and day variables so the print function can print out ur name and today's date\n",
    "\n",
    "name = 'max'\n",
    "day = '02/27/2023'\n",
    "\n",
    "print(f'{name} is attending bootcamps on {day}')"
   ]
  },
  {
   "cell_type": "markdown",
   "id": "a4230258",
   "metadata": {},
   "source": [
    "### 1. Integers\n",
    "\n",
    "- Numbers with a floating point: 1, 2 , and 10 not 1.2\n",
    "- Can do mathemical Manipulations on this type of entity"
   ]
  },
  {
   "cell_type": "code",
   "execution_count": 33,
   "id": "4fdb4c09",
   "metadata": {},
   "outputs": [
    {
     "name": "stdout",
     "output_type": "stream",
     "text": [
      "<class 'int'>\n",
      "Matchemtical Manipulations: 1+1=2, 2*3=6\n",
      "Modulos: 11%2=1\n"
     ]
    }
   ],
   "source": [
    "print(type(1))\n",
    "\n",
    "print(f'Matchemtical Manipulations: 1+1={1+1}, 2*3={2*3}')\n",
    "print(f'Modulos: 11%2={11%2}')"
   ]
  },
  {
   "cell_type": "markdown",
   "id": "7dd194a8",
   "metadata": {},
   "source": [
    "### 2. Floats\n",
    "\n",
    "- Numbers with floating points: 1.00, 3.45\n",
    "- Can do mathemical Manipulations on this type of entity"
   ]
  },
  {
   "cell_type": "code",
   "execution_count": 34,
   "id": "7869c514",
   "metadata": {},
   "outputs": [
    {
     "name": "stdout",
     "output_type": "stream",
     "text": [
      " Multiply 10.19 by 67.23 = 685.0737\n",
      " 2093.3 from 90.1902 = -2003.1098000000002\n"
     ]
    }
   ],
   "source": [
    "# Exercise\n",
    "\n",
    "# a. Multiply 10.19 by 67.23\n",
    "print(f' Multiply 10.19 by 67.23 = {10.19*67.23}')\n",
    "\n",
    "# b. subtract 2093.3 from 90.1902\n",
    "print(f' 2093.3 from 90.1902 = {90.1902 - 2093.3}')"
   ]
  },
  {
   "cell_type": "markdown",
   "id": "5c018910",
   "metadata": {},
   "source": [
    "### 3. Booleans\n",
    "\n",
    "- Two possible values: True and False\n",
    "- Used to build conditions\n",
    "- AND: all statements should be True.\n",
    "- OR: At least one the statements should be True."
   ]
  },
  {
   "cell_type": "code",
   "execution_count": 35,
   "id": "2d8edb25",
   "metadata": {},
   "outputs": [
    {
     "name": "stdout",
     "output_type": "stream",
     "text": [
      "True\n",
      "False\n"
     ]
    }
   ],
   "source": [
    "print(True or False)\n",
    "print(True and False)"
   ]
  },
  {
   "cell_type": "markdown",
   "id": "c9ff3dcc",
   "metadata": {},
   "source": [
    "### 4. Strings\n",
    "\n",
    "- A type used to represent words and sentences\n",
    "- Some functions\n",
    "    - lower\n",
    "    - upper\n",
    "    - replace\n",
    "    - split"
   ]
  },
  {
   "cell_type": "code",
   "execution_count": 36,
   "id": "198036b7",
   "metadata": {},
   "outputs": [
    {
     "name": "stdout",
     "output_type": "stream",
     "text": [
      "True False\n",
      "pyth!n bootcamp!\n",
      "PYTH!N BOOTCAMP!\n",
      "PyTHon Bootcampo\n",
      "['PyTH!n', 'Bootcamp!']\n",
      "['PyTH', 'n Bootcamp', '']\n"
     ]
    }
   ],
   "source": [
    "s = \"PyTH!n Bootcamp!\"\n",
    "print('P' in s, 'b' in s)\n",
    "print(s.lower())\n",
    "print(s.upper())\n",
    "print(s.replace('!', 'o'))\n",
    "print(s.split())\n",
    "print(s.split('!'))"
   ]
  },
  {
   "cell_type": "code",
   "execution_count": 37,
   "id": "7db7343c",
   "metadata": {},
   "outputs": [
    {
     "name": "stdout",
     "output_type": "stream",
     "text": [
      "ABC, make all the letters lower case => abc\n",
      "cde, make all the letters upper case => CDE\n",
      "replace amp with @ in \"bootcamp\" => bootc@\n"
     ]
    }
   ],
   "source": [
    "# Exercise: \n",
    "\n",
    "# a. 'ABC', make all the letters lower case\n",
    "print(f'ABC, make all the letters lower case => {\"ABC\".lower()}')\n",
    "\n",
    "# b. 'cde', make all the letters upper case\n",
    "print(f'cde, make all the letters upper case => {\"cde\".upper()}')\n",
    "\n",
    "# c. replace amp with @ in 'bootcamp'\n",
    "print(f'replace amp with @ in \"bootcamp\" => {\"bootcamp\".replace(\"amp\", \"@\")}')"
   ]
  },
  {
   "cell_type": "markdown",
   "id": "ff9d1470",
   "metadata": {},
   "source": [
    "## if statements and conditioning\n",
    "\n",
    "- we use if to construct logic and conditions\n",
    "- else: if the first condition is not correct\n",
    "- else if = elif"
   ]
  },
  {
   "cell_type": "code",
   "execution_count": 38,
   "id": "652a2765",
   "metadata": {},
   "outputs": [
    {
     "name": "stdout",
     "output_type": "stream",
     "text": [
      "a is bigger than b\n"
     ]
    }
   ],
   "source": [
    "# Example:\n",
    "\n",
    "a, b = 30, 15\n",
    "\n",
    "if a > b:\n",
    "    print('a is bigger than b')"
   ]
  },
  {
   "cell_type": "code",
   "execution_count": 39,
   "id": "ddd873e0",
   "metadata": {},
   "outputs": [
    {
     "name": "stdout",
     "output_type": "stream",
     "text": [
      "b is bigger than a\n"
     ]
    }
   ],
   "source": [
    "# Example: if/else\n",
    "\n",
    "a, b = 3, 15\n",
    "\n",
    "if a > b:\n",
    "    print('a is bigger than b')\n",
    "else:\n",
    "    print('b is bigger than a')"
   ]
  },
  {
   "cell_type": "code",
   "execution_count": 40,
   "id": "3d9c47fc",
   "metadata": {},
   "outputs": [
    {
     "name": "stdout",
     "output_type": "stream",
     "text": [
      "not sure!\n"
     ]
    }
   ],
   "source": [
    "# Example: Elif\n",
    "a, b, c = 30, 15, 23\n",
    "\n",
    "if c > a:\n",
    "    print('c is bigger than a')\n",
    "elif b > a:\n",
    "    print('b is bigger than c')\n",
    "else:\n",
    "    print('not sure!')"
   ]
  },
  {
   "cell_type": "code",
   "execution_count": 41,
   "id": "567f876a",
   "metadata": {},
   "outputs": [
    {
     "name": "stdout",
     "output_type": "stream",
     "text": [
      "Odd\n"
     ]
    }
   ],
   "source": [
    "# Example: Finding the odd number\n",
    "a = 101\n",
    "\n",
    "if a % 2 == 1:\n",
    "    print('Odd')\n",
    "else:\n",
    "    print('Even')"
   ]
  },
  {
   "cell_type": "code",
   "execution_count": 42,
   "id": "08b81cd3",
   "metadata": {},
   "outputs": [
    {
     "name": "stdout",
     "output_type": "stream",
     "text": [
      "a is bigger than 10 and b is divisable by 2\n"
     ]
    }
   ],
   "source": [
    "# Example: Using and, or, elif\n",
    "a, b = 11, 26\n",
    "\n",
    "if a > 20 and b % 13 == 0:\n",
    "    print('a is bigger than 20 and b is divisable by 13')\n",
    "elif a > 10 and b % 2 == 0:\n",
    "    print('a is bigger than 10 and b is divisable by 2')\n",
    "else:\n",
    "    print('None are true')"
   ]
  },
  {
   "cell_type": "markdown",
   "id": "cf3fe66f",
   "metadata": {},
   "source": [
    "## Loops\n",
    "\n",
    "### For\n",
    "- Based on a range we can run "
   ]
  },
  {
   "cell_type": "code",
   "execution_count": 43,
   "id": "eeff4c1b",
   "metadata": {},
   "outputs": [
    {
     "name": "stdout",
     "output_type": "stream",
     "text": [
      "0\n",
      "1\n",
      "2\n",
      "3\n",
      "4\n"
     ]
    }
   ],
   "source": [
    "# Example: printing numbers from 1 to 10\n",
    "\n",
    "for i in range(5):\n",
    "    print(i)"
   ]
  },
  {
   "cell_type": "code",
   "execution_count": 44,
   "id": "3b61c0ab",
   "metadata": {},
   "outputs": [
    {
     "name": "stdout",
     "output_type": "stream",
     "text": [
      "0\n",
      "2\n",
      "4\n"
     ]
    }
   ],
   "source": [
    "# Example: printing even numbers from 1 to 10 \n",
    "\n",
    "for i in range(5):\n",
    "    if i % 2 == 0:\n",
    "        print(i)"
   ]
  },
  {
   "cell_type": "markdown",
   "id": "1cce399a",
   "metadata": {},
   "source": [
    "### While\n",
    "\n",
    "- The loop will run until a given condition is wrong"
   ]
  },
  {
   "cell_type": "code",
   "execution_count": 45,
   "id": "d93ad6a9",
   "metadata": {},
   "outputs": [
    {
     "name": "stdout",
     "output_type": "stream",
     "text": [
      "10\n",
      "9\n",
      "8\n",
      "7\n",
      "6\n",
      "5\n",
      "4\n",
      "3\n",
      "2\n",
      "1\n"
     ]
    }
   ],
   "source": [
    "# Example: while will run 10 times\n",
    "a = 10\n",
    "\n",
    "while a > 0:\n",
    "    print(a)\n",
    "    a -= 1"
   ]
  },
  {
   "cell_type": "code",
   "execution_count": 46,
   "id": "896518af",
   "metadata": {},
   "outputs": [
    {
     "name": "stdout",
     "output_type": "stream",
     "text": [
      "120\n",
      "75\n",
      "30\n"
     ]
    }
   ],
   "source": [
    "# Example: While will run untill a is bigger than 20\n",
    "\n",
    "a = 120\n",
    "\n",
    "while a > 20:\n",
    "    print(a)\n",
    "    a -= 45"
   ]
  },
  {
   "cell_type": "markdown",
   "id": "d145c875",
   "metadata": {},
   "source": [
    "## Function\n",
    "\n",
    "- First a function should be defined then called\n",
    "- Parameters can be passed\n",
    "- Some functions can return an entity"
   ]
  },
  {
   "cell_type": "code",
   "execution_count": 47,
   "id": "34d1b490",
   "metadata": {},
   "outputs": [
    {
     "name": "stdout",
     "output_type": "stream",
     "text": [
      "Hello\n"
     ]
    }
   ],
   "source": [
    "# Example: Print hello\n",
    "def print_hello():\n",
    "    print('Hello')\n",
    "    \n",
    "print_hello()"
   ]
  },
  {
   "cell_type": "code",
   "execution_count": 48,
   "id": "e7ea84f2",
   "metadata": {},
   "outputs": [
    {
     "name": "stdout",
     "output_type": "stream",
     "text": [
      "Hello Jack\n"
     ]
    }
   ],
   "source": [
    "# Example: Print hello based on a given name\n",
    "def print_hello(name):\n",
    "    print(f'Hello {name}')\n",
    "    \n",
    "print_hello('Jack')"
   ]
  },
  {
   "cell_type": "code",
   "execution_count": 49,
   "id": "c606ff6d",
   "metadata": {},
   "outputs": [
    {
     "data": {
      "text/plain": [
       "3"
      ]
     },
     "execution_count": 49,
     "metadata": {},
     "output_type": "execute_result"
    }
   ],
   "source": [
    "# Example: Given two parameters a and b return the sum of a and b\n",
    "\n",
    "def sum(a, b):\n",
    "    return a + b\n",
    "\n",
    "sum(1,2)"
   ]
  },
  {
   "cell_type": "code",
   "execution_count": 50,
   "id": "a743f17c",
   "metadata": {},
   "outputs": [
    {
     "name": "stdout",
     "output_type": "stream",
     "text": [
      "a is even: 6, a is odd: -1\n"
     ]
    }
   ],
   "source": [
    "# Example: Given two parameters a and b if a is even add a to b if not subtract a from b\n",
    "\n",
    "def sum(a, b):\n",
    "    if a % 2 == 0:\n",
    "        return a + b\n",
    "    else:\n",
    "        return a - b\n",
    "    \n",
    "print(f'a is even: {sum(2,4)}, a is odd: {sum(3,4)}')"
   ]
  },
  {
   "cell_type": "code",
   "execution_count": 51,
   "id": "3645ea2c",
   "metadata": {},
   "outputs": [],
   "source": [
    "# Exercise:\n",
    "# Note: Run the functions to make sure that they are working as intended\n",
    "\n",
    "# a. write a function that compares a and b and prints 'a' if a is bigger \n",
    "# and 'b' if b is bigger, and 'e' if they are equal\n",
    "\n",
    "def ca(a, b):\n",
    "    if a > b: \n",
    "        print('a')\n",
    "    elif b > a:\n",
    "        print('b')\n",
    "    else:\n",
    "        print('e')\n",
    "\n",
    "# b. write a function that compares a and b and returns 'a' if a is bigger \n",
    "# and 'b'  if b is bigger and 'e' if they are equal\n",
    "\n",
    "def ca(a, b):\n",
    "    if a > b: \n",
    "        return('a')\n",
    "    elif b > a:\n",
    "        return('b')\n",
    "    else:\n",
    "        return('e')\n",
    "        \n",
    "# c. Write a function that gets a string, and returns True if 'abc' is in the string\n",
    "\n",
    "def ca(s):\n",
    "    if 'abc' in s:\n",
    "        return True\n",
    "    \n",
    "# d. Write a function that gets your name and program and prints some message\n",
    "\n",
    "def pnp(name, program):\n",
    "    print(f'Hey {name} you\\'re in {program}')"
   ]
  },
  {
   "cell_type": "markdown",
   "id": "fa9a89c0",
   "metadata": {},
   "source": [
    "### Sequences\n",
    "\n",
    "## List\n",
    "   - ex: [1,2,'three', True]\n",
    "   - check to see if sth is in the list: 1 in [1,2]"
   ]
  },
  {
   "cell_type": "code",
   "execution_count": 52,
   "id": "d2934617",
   "metadata": {},
   "outputs": [
    {
     "name": "stdout",
     "output_type": "stream",
     "text": [
      "1 is in l\n"
     ]
    }
   ],
   "source": [
    "# Example: using in with lists\n",
    "\n",
    "l = [1, 2, 'Three', True]\n",
    "\n",
    "if 1 in l: \n",
    "    print('1 is in l')"
   ]
  },
  {
   "cell_type": "code",
   "execution_count": 53,
   "id": "e8dc83b3",
   "metadata": {},
   "outputs": [
    {
     "name": "stdout",
     "output_type": "stream",
     "text": [
      "There are 4 elements in the list\n"
     ]
    }
   ],
   "source": [
    "# Example: Lenght of a list\n",
    "print(f'There are {len(l)} elements in the list')"
   ]
  },
  {
   "cell_type": "code",
   "execution_count": 54,
   "id": "7ce47ccf",
   "metadata": {},
   "outputs": [
    {
     "name": "stdout",
     "output_type": "stream",
     "text": [
      "Before: [1, 2, 'Three', True]\n",
      "after: [1, 2, 'Three', True, '1']\n"
     ]
    }
   ],
   "source": [
    "# Example: Adding to a list\n",
    "\n",
    "print(f'Before: {l}')\n",
    "l.append('1')\n",
    "print(f'after: {l}')"
   ]
  },
  {
   "cell_type": "code",
   "execution_count": 55,
   "id": "8c812e18",
   "metadata": {},
   "outputs": [
    {
     "name": "stdout",
     "output_type": "stream",
     "text": [
      "first element in the list: 1\n",
      "third element in the list: Three\n"
     ]
    }
   ],
   "source": [
    "# Example: Indeing through a list\n",
    "# First index starts at 0\n",
    "\n",
    "print(f'first element in the list: {l[0]}')\n",
    "print(f'third element in the list: {l[2]}')"
   ]
  },
  {
   "cell_type": "code",
   "execution_count": 56,
   "id": "4cbb1a3a",
   "metadata": {},
   "outputs": [
    {
     "name": "stdout",
     "output_type": "stream",
     "text": [
      "1\n",
      "2\n",
      "Three\n",
      "True\n",
      "1\n"
     ]
    }
   ],
   "source": [
    "# Example: Iterating through list\n",
    "\n",
    "for element in l:\n",
    "    print(element)"
   ]
  },
  {
   "cell_type": "code",
   "execution_count": 63,
   "id": "ba1ee17d",
   "metadata": {},
   "outputs": [
    {
     "name": "stdout",
     "output_type": "stream",
     "text": [
      "The max in [1, 11, 92] is 92\n",
      "92 in [1, 11, 92] is greater than 20\n",
      "True\n",
      "None\n"
     ]
    }
   ],
   "source": [
    "# Exercise:\n",
    "\n",
    "a = [1, 11, 92]\n",
    "\n",
    "# a. use the max function to get the maximum value within list a\n",
    "\n",
    "print(f'The max in {a} is {max(a)}')\n",
    "\n",
    "# b. go through a and if a value is bigger than 20, print the number\n",
    "\n",
    "for value in a:\n",
    "    if value > 20:\n",
    "        print(f'{value} in {a} is greater than 20')\n",
    "\n",
    "# c. Write a function that accepts a list as parameter and then returns true if the list has more than 10 elements\n",
    "\n",
    "def more_than_ten(alist):\n",
    "    if len(alist) > 10:\n",
    "        return True\n",
    "\n",
    "# d. Write a function that checks to see if the third element in a list is divisble by 3 or not\n",
    "\n",
    "def third_divisible_by_three(alist):\n",
    "    if alist[2] % 3 == 0:\n",
    "        return True\n",
    "\n",
    "print(third_divisible_by_three([1,2,3]))\n",
    "print(third_divisible_by_three([1,2,5]))\n",
    "\n",
    "# e. Write a function that gets a list and prints each element alongside its element: 0, 1 then 1, 11 and 2, 92\n",
    "\n",
    "def print_index_and_element(alist):\n",
    "    for index in range(len(alist)):\n",
    "        print(f'{index}, {alist[index]}')"
   ]
  },
  {
   "cell_type": "markdown",
   "id": "e37be49a",
   "metadata": {},
   "source": [
    "## Dictionary"
   ]
  },
  {
   "cell_type": "code",
   "execution_count": 58,
   "id": "6ed0b761",
   "metadata": {},
   "outputs": [],
   "source": [
    "# Example: Initiating the dictionary\n",
    "\n",
    "d = {\"Jacob\": 93, \"Alice\": 89, \"Ben\": 74}"
   ]
  },
  {
   "cell_type": "code",
   "execution_count": 59,
   "id": "533835d7",
   "metadata": {},
   "outputs": [
    {
     "name": "stdout",
     "output_type": "stream",
     "text": [
      "Jacob\n",
      "Alice\n",
      "Ben\n"
     ]
    }
   ],
   "source": [
    "# Exmaple: Iterating based on keys\n",
    "\n",
    "for key in d.keys():\n",
    "    print(key)"
   ]
  },
  {
   "cell_type": "code",
   "execution_count": 60,
   "id": "8240960b",
   "metadata": {},
   "outputs": [
    {
     "name": "stdout",
     "output_type": "stream",
     "text": [
      "93\n",
      "89\n",
      "74\n"
     ]
    }
   ],
   "source": [
    "# Exmaple: Iterating based on values\n",
    "\n",
    "for val in d.values():\n",
    "    print(val)"
   ]
  },
  {
   "cell_type": "code",
   "execution_count": 61,
   "id": "930136fb",
   "metadata": {},
   "outputs": [
    {
     "name": "stdout",
     "output_type": "stream",
     "text": [
      "Jacob 93\n",
      "Alice 89\n",
      "Ben 74\n"
     ]
    }
   ],
   "source": [
    "# Exmaple: Iterating based on both keys and values\n",
    "\n",
    "for key, val in d.items():\n",
    "    print(key, val)"
   ]
  },
  {
   "cell_type": "code",
   "execution_count": null,
   "id": "279b4923",
   "metadata": {},
   "outputs": [],
   "source": []
  }
 ],
 "metadata": {
  "kernelspec": {
   "display_name": "Python 3.7.10 - rstudio",
   "language": "python",
   "name": "rstudio-user-3.7.10"
  },
  "language_info": {
   "codemirror_mode": {
    "name": "ipython",
    "version": 3
   },
   "file_extension": ".py",
   "mimetype": "text/x-python",
   "name": "python",
   "nbconvert_exporter": "python",
   "pygments_lexer": "ipython3",
   "version": "3.7.10"
  }
 },
 "nbformat": 4,
 "nbformat_minor": 5
}
