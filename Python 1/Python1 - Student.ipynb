{
 "cells": [
  {
   "cell_type": "markdown",
   "id": "67217abf",
   "metadata": {},
   "source": [
    "# Data Types\n",
    "Primitive Types\n",
    "1. Integers\n",
    "2. Floats\n",
    "3. Booleans\n",
    "4. Strings\n",
    "\n",
    "**Note**: We can use the type function to get the type of each entity."
   ]
  },
  {
   "cell_type": "code",
   "execution_count": 2,
   "id": "fc0f5955",
   "metadata": {},
   "outputs": [
    {
     "name": "stdout",
     "output_type": "stream",
     "text": [
      "You can print using f-string.\n"
     ]
    }
   ],
   "source": [
    "### f-string printing\n"
   ]
  },
  {
   "cell_type": "code",
   "execution_count": 3,
   "id": "bb9f36d0",
   "metadata": {},
   "outputs": [
    {
     "ename": "SyntaxError",
     "evalue": "invalid syntax (52971808.py, line 3)",
     "output_type": "error",
     "traceback": [
      "\u001b[0;36m  File \u001b[0;32m\"/tmp/ipykernel_145/52971808.py\"\u001b[0;36m, line \u001b[0;32m3\u001b[0m\n\u001b[0;31m    name = ---\u001b[0m\n\u001b[0m              ^\u001b[0m\n\u001b[0;31mSyntaxError\u001b[0m\u001b[0;31m:\u001b[0m invalid syntax\n"
     ]
    }
   ],
   "source": [
    "# Exercise: Fill out name and day variables so the print function can print out ur name and today's date\n",
    "\n",
    "name = ---\n",
    "day = ---\n",
    "\n",
    "print(f'{name} is attending bootcamps on {day}')"
   ]
  },
  {
   "cell_type": "markdown",
   "id": "a4230258",
   "metadata": {},
   "source": [
    "### 1. Integers\n",
    "\n",
    "- Numbers with a floating point: 1, 2 , and 10 not 1.2\n",
    "- Can do mathemical Manipulations on this type of entity"
   ]
  },
  {
   "cell_type": "code",
   "execution_count": 4,
   "id": "4fdb4c09",
   "metadata": {},
   "outputs": [
    {
     "name": "stdout",
     "output_type": "stream",
     "text": [
      "<class 'int'>\n",
      "Matchemtical Manipulations: 1+1=2, 2*3=6\n",
      "Modulos: 11%2=1\n"
     ]
    }
   ],
   "source": []
  },
  {
   "cell_type": "markdown",
   "id": "7dd194a8",
   "metadata": {},
   "source": [
    "### 2. Floats\n",
    "\n",
    "- Numbers with floating points: 1.00, 3.45\n",
    "- Can do mathemical Manipulations on this type of entity"
   ]
  },
  {
   "cell_type": "code",
   "execution_count": null,
   "id": "7869c514",
   "metadata": {},
   "outputs": [],
   "source": [
    "# Exercise\n",
    "\n",
    "# a. Multiply 10.19 by 67.23\n",
    "\n",
    "# b. subtract 2093.3 from 90.1902"
   ]
  },
  {
   "cell_type": "markdown",
   "id": "5c018910",
   "metadata": {},
   "source": [
    "### 3. Booleans\n",
    "\n",
    "- Two possible values: True and False\n",
    "- Used to build conditions\n",
    "- AND: all statements should be True.\n",
    "- OR: At least one the statements should be True."
   ]
  },
  {
   "cell_type": "code",
   "execution_count": 4,
   "id": "2d8edb25",
   "metadata": {},
   "outputs": [
    {
     "name": "stdout",
     "output_type": "stream",
     "text": [
      "True\n",
      "False\n"
     ]
    }
   ],
   "source": []
  },
  {
   "cell_type": "markdown",
   "id": "c9ff3dcc",
   "metadata": {},
   "source": [
    "### 4. Strings\n",
    "\n",
    "- A type used to represent words and sentences\n",
    "- Some functions\n",
    "    - lower\n",
    "    - upper\n",
    "    - replace\n",
    "    - split"
   ]
  },
  {
   "cell_type": "code",
   "execution_count": 1,
   "id": "198036b7",
   "metadata": {},
   "outputs": [
    {
     "ename": "NameError",
     "evalue": "name 'replace' is not defined",
     "output_type": "error",
     "traceback": [
      "\u001b[0;31m---------------------------------------------------------------------------\u001b[0m",
      "\u001b[0;31mNameError\u001b[0m                                 Traceback (most recent call last)",
      "\u001b[0;32m/tmp/ipykernel_105/4244080781.py\u001b[0m in \u001b[0;36m<module>\u001b[0;34m\u001b[0m\n\u001b[0;32m----> 1\u001b[0;31m \u001b[0mhelp\u001b[0m\u001b[0;34m(\u001b[0m\u001b[0mreplace\u001b[0m\u001b[0;34m)\u001b[0m\u001b[0;34m\u001b[0m\u001b[0;34m\u001b[0m\u001b[0m\n\u001b[0m",
      "\u001b[0;31mNameError\u001b[0m: name 'replace' is not defined"
     ]
    }
   ],
   "source": []
  },
  {
   "cell_type": "code",
   "execution_count": null,
   "id": "7db7343c",
   "metadata": {},
   "outputs": [],
   "source": [
    "# Exercise: \n",
    "\n",
    "# a. 'ABC', make all the letters lower case\n",
    "\n",
    "# b. 'cde', make all the letters upper case\n",
    "\n",
    "# c. replace amp with @ in 'bootcamp'"
   ]
  },
  {
   "cell_type": "markdown",
   "id": "ff9d1470",
   "metadata": {},
   "source": [
    "## if statements and conditioning\n",
    "\n",
    "- we use if to construct logic and conditions\n",
    "- else: if the first condition is not correct\n",
    "- else if = elif"
   ]
  },
  {
   "cell_type": "code",
   "execution_count": 5,
   "id": "652a2765",
   "metadata": {},
   "outputs": [
    {
     "name": "stdout",
     "output_type": "stream",
     "text": [
      "a is bigger than b\n"
     ]
    }
   ],
   "source": [
    "# Example:\n"
   ]
  },
  {
   "cell_type": "code",
   "execution_count": 6,
   "id": "ddd873e0",
   "metadata": {},
   "outputs": [
    {
     "name": "stdout",
     "output_type": "stream",
     "text": [
      "b is bigger than a\n"
     ]
    }
   ],
   "source": [
    "# Example: if/else\n"
   ]
  },
  {
   "cell_type": "code",
   "execution_count": 7,
   "id": "3d9c47fc",
   "metadata": {},
   "outputs": [
    {
     "name": "stdout",
     "output_type": "stream",
     "text": [
      "not sure!\n"
     ]
    }
   ],
   "source": [
    "# Example: Elif\n"
   ]
  },
  {
   "cell_type": "code",
   "execution_count": 8,
   "id": "567f876a",
   "metadata": {},
   "outputs": [
    {
     "name": "stdout",
     "output_type": "stream",
     "text": [
      "Odd\n"
     ]
    }
   ],
   "source": [
    "# Example: Finding the odd number\n"
   ]
  },
  {
   "cell_type": "code",
   "execution_count": 26,
   "id": "08b81cd3",
   "metadata": {},
   "outputs": [
    {
     "name": "stdout",
     "output_type": "stream",
     "text": [
      "a is bigger than 10 and b is divisable by 2\n"
     ]
    }
   ],
   "source": [
    "# Example: Using and, or, elif\n"
   ]
  },
  {
   "cell_type": "markdown",
   "id": "cf3fe66f",
   "metadata": {},
   "source": [
    "## Loops\n",
    "\n",
    "### For\n",
    "- Based on a range we can run "
   ]
  },
  {
   "cell_type": "code",
   "execution_count": 9,
   "id": "eeff4c1b",
   "metadata": {},
   "outputs": [
    {
     "name": "stdout",
     "output_type": "stream",
     "text": [
      "0\n",
      "1\n",
      "2\n",
      "3\n",
      "4\n"
     ]
    }
   ],
   "source": [
    "# Example: printing numbers from 1 to 10\n"
   ]
  },
  {
   "cell_type": "code",
   "execution_count": 10,
   "id": "3b61c0ab",
   "metadata": {},
   "outputs": [
    {
     "name": "stdout",
     "output_type": "stream",
     "text": [
      "0\n",
      "2\n",
      "4\n"
     ]
    }
   ],
   "source": [
    "# Example: printing even numbers from 1 to 10 \n"
   ]
  },
  {
   "cell_type": "markdown",
   "id": "1cce399a",
   "metadata": {},
   "source": [
    "### While\n",
    "\n",
    "- The loop will run until a given condition is wrong"
   ]
  },
  {
   "cell_type": "code",
   "execution_count": 11,
   "id": "d93ad6a9",
   "metadata": {},
   "outputs": [
    {
     "name": "stdout",
     "output_type": "stream",
     "text": [
      "10\n",
      "9\n",
      "8\n",
      "7\n",
      "6\n",
      "5\n",
      "4\n",
      "3\n",
      "2\n",
      "1\n"
     ]
    }
   ],
   "source": [
    "# Example: while will run 10 times\n"
   ]
  },
  {
   "cell_type": "code",
   "execution_count": 12,
   "id": "896518af",
   "metadata": {},
   "outputs": [
    {
     "name": "stdout",
     "output_type": "stream",
     "text": [
      "120\n",
      "75\n",
      "30\n"
     ]
    }
   ],
   "source": [
    "# Example: While will run untill a is bigger than 20\n"
   ]
  },
  {
   "cell_type": "markdown",
   "id": "d145c875",
   "metadata": {},
   "source": [
    "## Function\n",
    "\n",
    "- First a function should be defined then called\n",
    "- Parameters can be passed\n",
    "- Some functions can return an entity"
   ]
  },
  {
   "cell_type": "code",
   "execution_count": 30,
   "id": "34d1b490",
   "metadata": {},
   "outputs": [
    {
     "name": "stdout",
     "output_type": "stream",
     "text": [
      "Hello\n"
     ]
    }
   ],
   "source": [
    "# Example: Print hello\n"
   ]
  },
  {
   "cell_type": "code",
   "execution_count": 31,
   "id": "e7ea84f2",
   "metadata": {},
   "outputs": [
    {
     "name": "stdout",
     "output_type": "stream",
     "text": [
      "Hello Jack\n"
     ]
    }
   ],
   "source": [
    "# Example: Print hello based on a given name\n"
   ]
  },
  {
   "cell_type": "code",
   "execution_count": 27,
   "id": "c606ff6d",
   "metadata": {},
   "outputs": [
    {
     "data": {
      "text/plain": [
       "3"
      ]
     },
     "execution_count": 27,
     "metadata": {},
     "output_type": "execute_result"
    }
   ],
   "source": [
    "# Example: Given two parameters a and b return the sum of a and b\n"
   ]
  },
  {
   "cell_type": "code",
   "execution_count": 28,
   "id": "a743f17c",
   "metadata": {},
   "outputs": [
    {
     "name": "stdout",
     "output_type": "stream",
     "text": [
      "a is even: 6, a is odd: -1\n"
     ]
    }
   ],
   "source": [
    "# Example: Given two parameters a and b if a is even add a to b if not subtract a from b\n"
   ]
  },
  {
   "cell_type": "code",
   "execution_count": null,
   "id": "3645ea2c",
   "metadata": {},
   "outputs": [],
   "source": [
    "# Exercise:\n",
    "# Note: Run the functions to make sure that they are working as intended\n",
    "\n",
    "# a. write a function that compares a and b and prints 'a' if a is bigger and 'b' if b is bigger and 'e' if they are equal\n",
    "\n",
    "def ca(a, b):\n",
    "    pass\n",
    "\n",
    "# b. write a function that compares a and b and returns 'a' if a is bigger and 'b' if b is bigger and 'e' if they are equal\n",
    "\n",
    "def ca(a, b):\n",
    "    pass\n",
    "        \n",
    "# c. Write a function that gets a string, and returns True if 'abc' is in the string\n",
    "\n",
    "def ca(s):\n",
    "    pass\n",
    "    \n",
    "# d. Write a function that gets your name and program and prints some message\n",
    "\n",
    "def pnp(name, program):\n",
    "    pass"
   ]
  },
  {
   "cell_type": "markdown",
   "id": "fa9a89c0",
   "metadata": {},
   "source": [
    "### Sequences\n",
    "\n",
    "## List\n",
    "   - ex: [1,2,'three', True]\n",
    "   - check to see if sth is in the list: 1 in [1,2]"
   ]
  },
  {
   "cell_type": "code",
   "execution_count": 35,
   "id": "d2934617",
   "metadata": {},
   "outputs": [
    {
     "name": "stdout",
     "output_type": "stream",
     "text": [
      "1 is in l\n"
     ]
    }
   ],
   "source": [
    "# Example: using in with lists\n"
   ]
  },
  {
   "cell_type": "code",
   "execution_count": 39,
   "id": "e8dc83b3",
   "metadata": {},
   "outputs": [
    {
     "name": "stdout",
     "output_type": "stream",
     "text": [
      "There are 4 elements in the list\n"
     ]
    }
   ],
   "source": [
    "# Example: Lenght of a list\n"
   ]
  },
  {
   "cell_type": "code",
   "execution_count": 40,
   "id": "7ce47ccf",
   "metadata": {},
   "outputs": [
    {
     "name": "stdout",
     "output_type": "stream",
     "text": [
      "Before: [1, 2, 'Three', True]\n",
      "after: [1, 2, 'Three', True, '1']\n"
     ]
    }
   ],
   "source": [
    "# Example: Adding to a list\n"
   ]
  },
  {
   "cell_type": "code",
   "execution_count": null,
   "id": "8c812e18",
   "metadata": {},
   "outputs": [],
   "source": [
    "# Example: Indeing through a list\n",
    "# First index starts at 0\n"
   ]
  },
  {
   "cell_type": "code",
   "execution_count": 37,
   "id": "4cbb1a3a",
   "metadata": {},
   "outputs": [
    {
     "name": "stdout",
     "output_type": "stream",
     "text": [
      "1\n",
      "2\n",
      "Three\n",
      "True\n"
     ]
    }
   ],
   "source": [
    "# Example: Iterating through list\n"
   ]
  },
  {
   "cell_type": "code",
   "execution_count": null,
   "id": "ba1ee17d",
   "metadata": {},
   "outputs": [],
   "source": [
    "# Exercise:\n",
    "\n",
    "a = [1, 11, 92]\n",
    "\n",
    "# a. use the max function to get the maximum value within list a\n",
    "\n",
    "# b. go through a and if a value is bigger than 20, print the number\n",
    "\n",
    "# c. Write a function that accepts a list as parameter and then returns true if the list has more than 10 elements\n",
    "\n",
    "# d. Write a function that checks to see if the thrid element in a list is divisble by 3 or not\n",
    "\n",
    "# e. Write a function that gets a list and prints each element alongside its element: 0, 1 then 1, 11 and 2, 92"
   ]
  },
  {
   "cell_type": "markdown",
   "id": "e37be49a",
   "metadata": {},
   "source": [
    "## Dictionary"
   ]
  },
  {
   "cell_type": "code",
   "execution_count": 41,
   "id": "6ed0b761",
   "metadata": {},
   "outputs": [],
   "source": [
    "# Example: Initiating the dictionary\n"
   ]
  },
  {
   "cell_type": "code",
   "execution_count": 42,
   "id": "533835d7",
   "metadata": {},
   "outputs": [
    {
     "name": "stdout",
     "output_type": "stream",
     "text": [
      "Jacob\n",
      "Alice\n",
      "Ben\n"
     ]
    }
   ],
   "source": [
    "# Exmaple: Iterating based on keys\n"
   ]
  },
  {
   "cell_type": "code",
   "execution_count": 43,
   "id": "8240960b",
   "metadata": {},
   "outputs": [
    {
     "name": "stdout",
     "output_type": "stream",
     "text": [
      "93\n",
      "89\n",
      "74\n"
     ]
    }
   ],
   "source": [
    "# Exmaple: Iterating based on values\n"
   ]
  },
  {
   "cell_type": "code",
   "execution_count": 44,
   "id": "930136fb",
   "metadata": {},
   "outputs": [
    {
     "name": "stdout",
     "output_type": "stream",
     "text": [
      "Jacob 93\n",
      "Alice 89\n",
      "Ben 74\n"
     ]
    }
   ],
   "source": [
    "# Exmaple: Iterating based on both keys and values\n"
   ]
  },
  {
   "cell_type": "code",
   "execution_count": null,
   "id": "279b4923",
   "metadata": {},
   "outputs": [],
   "source": []
  }
 ],
 "metadata": {
  "kernelspec": {
   "display_name": "Python 3.7.10 - rstudio",
   "language": "python",
   "name": "rstudio-user-3.7.10"
  },
  "language_info": {
   "codemirror_mode": {
    "name": "ipython",
    "version": 3
   },
   "file_extension": ".py",
   "mimetype": "text/x-python",
   "name": "python",
   "nbconvert_exporter": "python",
   "pygments_lexer": "ipython3",
   "version": "3.7.10"
  }
 },
 "nbformat": 4,
 "nbformat_minor": 5
}
